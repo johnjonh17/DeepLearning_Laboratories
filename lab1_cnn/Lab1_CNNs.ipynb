{
  "cells": [
    {
      "cell_type": "markdown",
      "id": "d97f7c5d-46f3-4cbd-80ad-f1e50cd65096",
      "metadata": {
        "id": "d97f7c5d-46f3-4cbd-80ad-f1e50cd65096"
      },
      "source": [
        "# Deep Learning Applications: Laboratory #1\n",
        "\n",
        "In this first laboratory we will work relatively simple architectures to get a feel for working with Deep Models. This notebook is designed to work with PyTorch, but as I said in the introductory lecture: please feel free to use and experiment with whatever tools you like.\n",
        "\n",
        "**Important Notes**:\n",
        "1. Be sure to **document** all of your decisions, as well as your intermediate and final results. Make sure your conclusions and analyses are clearly presented. Don't make us dig into your code or walls of printed results to try to draw conclusions from your code.\n",
        "2. If you use code from someone else (e.g. Github, Stack Overflow, ChatGPT, etc) you **must be transparent about it**. Document your sources and explain how you adapted any partial solutions to creat **your** solution.\n",
        "\n"
      ]
    },
    {
      "cell_type": "markdown",
      "id": "17ed8906-bd19-4b4f-8b79-4feae355ffd6",
      "metadata": {
        "id": "17ed8906-bd19-4b4f-8b79-4feae355ffd6"
      },
      "source": [
        "## Exercise 1: Warming Up\n",
        "In this series of exercises I want you to try to duplicate (on a small scale) the results of the ResNet paper:\n",
        "\n",
        "> [Deep Residual Learning for Image Recognition](https://arxiv.org/abs/1512.03385), Kaiming He, Xiangyu Zhang, Shaoqing Ren, Jian Sun, CVPR 2016.\n",
        "\n",
        "We will do this in steps using a Multilayer Perceptron on MNIST.\n",
        "\n",
        "Recall that the main message of the ResNet paper is that **deeper** networks do not **guarantee** more reduction in training loss (or in validation accuracy). Below you will incrementally build a sequence of experiments to verify this for an MLP. A few guidelines:\n",
        "\n",
        "+ I have provided some **starter** code at the beginning. **NONE** of this code should survive in your solutions. Not only is it **very** badly written, it is also written in my functional style that also obfuscates what it's doing (in part to **discourage** your reuse!). It's just to get you *started*.\n",
        "+ These exercises ask you to compare **multiple** training runs, so it is **really** important that you factor this into your **pipeline**. Using [Tensorboard](https://pytorch.org/tutorials/recipes/recipes/tensorboard_with_pytorch.html) is a **very** good idea -- or, even better [Weights and Biases](https://wandb.ai/site).\n",
        "+ You may work and submit your solutions in **groups of at most two**. Share your ideas with everyone, but the solutions you submit *must be your own*.\n",
        "\n",
        "First some boilerplate to get you started, then on to the actual exercises!"
      ]
    },
    {
      "cell_type": "markdown",
      "id": "edb2b6d1-3df0-464c-9a5f-8c611257a971",
      "metadata": {
        "id": "edb2b6d1-3df0-464c-9a5f-8c611257a971"
      },
      "source": [
        "### Preface: Some code to get you started\n",
        "\n",
        "What follows is some **very simple** code for training an MLP on MNIST. The point of this code is to get you up and running (and to verify that your Python environment has all needed dependencies).\n",
        "\n",
        "**Note**: As you read through my code and execute it, this would be a good time to think about *abstracting* **your** model definition, and training and evaluation pipelines in order to make it easier to compare performance of different models."
      ]
    },
    {
      "cell_type": "code",
      "execution_count": null,
      "id": "ab3a8282-2322-4dca-b76e-2f3863bc75fb",
      "metadata": {
        "tags": [],
        "id": "ab3a8282-2322-4dca-b76e-2f3863bc75fb"
      },
      "outputs": [],
      "source": [
        "# Start with some standard imports.\n",
        "import numpy as np\n",
        "import matplotlib.pyplot as plt\n",
        "from functools import reduce\n",
        "import torch\n",
        "from torchvision.datasets import MNIST\n",
        "from torch.utils.data import Subset\n",
        "import torch.nn as nn\n",
        "import torch.nn.functional as F\n",
        "import torchvision.transforms as transforms"
      ]
    },
    {
      "cell_type": "markdown",
      "id": "33cc12cc-8422-47bf-8d8e-0950ac05ae96",
      "metadata": {
        "id": "33cc12cc-8422-47bf-8d8e-0950ac05ae96"
      },
      "source": [
        "#### Data preparation\n",
        "\n",
        "Here is some basic dataset loading, validation splitting code to get you started working with MNIST."
      ]
    },
    {
      "cell_type": "code",
      "execution_count": null,
      "id": "272a69db-0416-444a-9be4-5f055ff48bbb",
      "metadata": {
        "tags": [],
        "colab": {
          "base_uri": "https://localhost:8080/"
        },
        "id": "272a69db-0416-444a-9be4-5f055ff48bbb",
        "outputId": "726a110f-64f1-4d4a-c9c5-eb9cb2ef53be",
        "collapsed": true
      },
      "outputs": [
        {
          "output_type": "stream",
          "name": "stdout",
          "text": [
            "Downloading http://yann.lecun.com/exdb/mnist/train-images-idx3-ubyte.gz\n",
            "Failed to download (trying next):\n",
            "HTTP Error 404: Not Found\n",
            "\n",
            "Downloading https://ossci-datasets.s3.amazonaws.com/mnist/train-images-idx3-ubyte.gz\n",
            "Downloading https://ossci-datasets.s3.amazonaws.com/mnist/train-images-idx3-ubyte.gz to ./data/MNIST/raw/train-images-idx3-ubyte.gz\n"
          ]
        },
        {
          "output_type": "stream",
          "name": "stderr",
          "text": [
            "100%|██████████| 9.91M/9.91M [00:00<00:00, 17.2MB/s]\n"
          ]
        },
        {
          "output_type": "stream",
          "name": "stdout",
          "text": [
            "Extracting ./data/MNIST/raw/train-images-idx3-ubyte.gz to ./data/MNIST/raw\n",
            "\n",
            "Downloading http://yann.lecun.com/exdb/mnist/train-labels-idx1-ubyte.gz\n",
            "Failed to download (trying next):\n",
            "HTTP Error 404: Not Found\n",
            "\n",
            "Downloading https://ossci-datasets.s3.amazonaws.com/mnist/train-labels-idx1-ubyte.gz\n",
            "Downloading https://ossci-datasets.s3.amazonaws.com/mnist/train-labels-idx1-ubyte.gz to ./data/MNIST/raw/train-labels-idx1-ubyte.gz\n"
          ]
        },
        {
          "output_type": "stream",
          "name": "stderr",
          "text": [
            "100%|██████████| 28.9k/28.9k [00:00<00:00, 488kB/s]\n"
          ]
        },
        {
          "output_type": "stream",
          "name": "stdout",
          "text": [
            "Extracting ./data/MNIST/raw/train-labels-idx1-ubyte.gz to ./data/MNIST/raw\n",
            "\n",
            "Downloading http://yann.lecun.com/exdb/mnist/t10k-images-idx3-ubyte.gz\n",
            "Failed to download (trying next):\n",
            "HTTP Error 404: Not Found\n",
            "\n",
            "Downloading https://ossci-datasets.s3.amazonaws.com/mnist/t10k-images-idx3-ubyte.gz\n",
            "Downloading https://ossci-datasets.s3.amazonaws.com/mnist/t10k-images-idx3-ubyte.gz to ./data/MNIST/raw/t10k-images-idx3-ubyte.gz\n"
          ]
        },
        {
          "output_type": "stream",
          "name": "stderr",
          "text": [
            "100%|██████████| 1.65M/1.65M [00:00<00:00, 4.51MB/s]\n"
          ]
        },
        {
          "output_type": "stream",
          "name": "stdout",
          "text": [
            "Extracting ./data/MNIST/raw/t10k-images-idx3-ubyte.gz to ./data/MNIST/raw\n",
            "\n",
            "Downloading http://yann.lecun.com/exdb/mnist/t10k-labels-idx1-ubyte.gz\n",
            "Failed to download (trying next):\n",
            "HTTP Error 404: Not Found\n",
            "\n",
            "Downloading https://ossci-datasets.s3.amazonaws.com/mnist/t10k-labels-idx1-ubyte.gz\n",
            "Downloading https://ossci-datasets.s3.amazonaws.com/mnist/t10k-labels-idx1-ubyte.gz to ./data/MNIST/raw/t10k-labels-idx1-ubyte.gz\n"
          ]
        },
        {
          "output_type": "stream",
          "name": "stderr",
          "text": [
            "100%|██████████| 4.54k/4.54k [00:00<00:00, 9.23MB/s]"
          ]
        },
        {
          "output_type": "stream",
          "name": "stdout",
          "text": [
            "Extracting ./data/MNIST/raw/t10k-labels-idx1-ubyte.gz to ./data/MNIST/raw\n",
            "\n"
          ]
        },
        {
          "output_type": "stream",
          "name": "stderr",
          "text": [
            "\n"
          ]
        }
      ],
      "source": [
        "# Standard MNIST transform.\n",
        "transform = transforms.Compose([\n",
        "    transforms.ToTensor(),\n",
        "    transforms.Normalize((0.1307,), (0.3081,))\n",
        "])\n",
        "\n",
        "# Load MNIST train and test.\n",
        "ds_train = MNIST(root='./data', train=True, download=True, transform=transform)\n",
        "ds_test = MNIST(root='./data', train=False, download=True, transform=transform)\n",
        "\n",
        "# Split train into train and validation.\n",
        "val_size = 5000\n",
        "I = np.random.permutation(len(ds_train))\n",
        "ds_val = Subset(ds_train, I[:val_size])\n",
        "ds_train = Subset(ds_train, I[val_size:])"
      ]
    },
    {
      "cell_type": "markdown",
      "id": "24e05e96-7707-4490-98b8-50cb5e330af1",
      "metadata": {
        "id": "24e05e96-7707-4490-98b8-50cb5e330af1"
      },
      "source": [
        "#### Boilerplate training and evaluation code\n",
        "\n",
        "This is some **very** rough training, evaluation, and plotting code. Again, just to get you started. I will be *very* disappointed if any of this code makes it into your final submission."
      ]
    },
    {
      "cell_type": "code",
      "execution_count": null,
      "id": "dbcce348-f603-4d57-b9a8-5b1c6eba28ae",
      "metadata": {
        "tags": [],
        "id": "dbcce348-f603-4d57-b9a8-5b1c6eba28ae"
      },
      "outputs": [],
      "source": [
        "from tqdm import tqdm\n",
        "from sklearn.metrics import accuracy_score, classification_report\n",
        "\n",
        "# Function to train a model for a single epoch over the data loader.\n",
        "def train_epoch(model, dl, opt, epoch='Unknown', device='cpu'):\n",
        "    model.train()\n",
        "    losses = []\n",
        "    for (xs, ys) in tqdm(dl, desc=f'Training epoch {epoch}', leave=True):\n",
        "        xs = xs.to(device)\n",
        "        ys = ys.to(device)\n",
        "        opt.zero_grad()\n",
        "        logits = model(xs)\n",
        "        loss = F.cross_entropy(logits, ys)#calocolo loss per ogni immagini, poi in loss viene salvato singolo valore loss media per batch\n",
        "        loss.backward()#calola il gradiente della loss rispetto a ciascun peso del modello\n",
        "        opt.step()#muove i pesi per minimizzare la loss\n",
        "        losses.append(loss.item())#si aggiunge alla lista losses il valore di los per quella batch\n",
        "    return np.mean(losses)#ritorna loss media per tutte la batch calcolate nell'epoca\n",
        "\n",
        "# Function to evaluate model over all samples in the data loader.\n",
        "def evaluate_model(model, dl, device='cpu'):\n",
        "    model.eval()\n",
        "    predictions = []#predizioni modello\n",
        "    gts = []#ground truth\n",
        "    for (xs, ys) in tqdm(dl, desc='Evaluating', leave=False):\n",
        "        xs = xs.to(device)\n",
        "        #model(xs) contiene le predizioni per ogni immagine nella batch. ha dime righe=immagini in batch, colonne=classi\n",
        "        #torch.argmax restituisce il valore massimo per ogni riga, delle colonne. quindi la classe per ogni immagine, tensore (N,)\n",
        "        preds = torch.argmax(model(xs), dim=1)\n",
        "        gts.append(ys)\n",
        "        #si appende alla lista delle predizioni tutte le predizioni delle immagini in batch, calcolate prima con preds\n",
        "        #si stacca il tensore delle predizioni dal grafo computazioneale. cosi possiamo fare operazioni su questo senza influenzare il successivo calcolo del gradiente\n",
        "        #poi ci spostiamo in cpu perche numpy lavora su quello e si trasforma il tensore in array per elaborarlo con numpy\n",
        "        predictions.append(preds.detach().cpu().numpy())\n",
        "\n",
        "    # Return accuracy score and classification report.\n",
        "    #tuple: sequenze ordinate e immutabili di elementi.\n",
        "    #la funzione evaluetion restituisce una tupla contenente accuracy_score ed classification_report.\n",
        "    #classification report da precision, recall, F1-score, support per ogni classe\n",
        "    #accuratezza calcolata confrontando le predizioni con le etichette.\n",
        "    #np.hstack concatena le array di ogni singola batch creando un unico array per il dataset.\n",
        "    #zero_division=dare valore 0 a calsse0. digits=numero di cifre decimali da visualizzare\n",
        "    return (accuracy_score(np.hstack(gts), np.hstack(predictions)),\n",
        "            classification_report(np.hstack(gts), np.hstack(predictions), zero_division=0, digits=3))\n",
        "\n",
        "# Simple function to plot the loss curve and validation accuracy.\n",
        "#(x,_) ho una lista di tutple, considera il primo elemento per ogni tupla. (_,x) considera il secondo.\n",
        "#plot_validation_curves si aspetta una lista di tuple. il primo elemento è loss media batch, secondo acc. media batch\n",
        "def plot_validation_curves(losses_and_accs):\n",
        "    losses = [x for (x, _) in losses_and_accs]\n",
        "    accs = [x for (_, x) in losses_and_accs]\n",
        "    plt.figure(figsize=(16, 8))\n",
        "    plt.subplot(1, 2, 1)\n",
        "    plt.plot(losses)\n",
        "    plt.xlabel('Epoch')\n",
        "    plt.ylabel('Loss')\n",
        "    plt.title('Average Training Loss per Epoch')\n",
        "    plt.subplot(1, 2, 2)\n",
        "    plt.plot(accs)\n",
        "    plt.xlabel('Epoch')\n",
        "    plt.ylabel('Validation Accuracy')\n",
        "    plt.title(f'Best Accuracy = {np.max(accs)} @ epoch {np.argmax(accs)}')"
      ]
    },
    {
      "cell_type": "markdown",
      "id": "875008c3-306c-4e39-a845-d7bda7862621",
      "metadata": {
        "id": "875008c3-306c-4e39-a845-d7bda7862621"
      },
      "source": [
        "#### A basic, parameterized MLP\n",
        "\n",
        "This is a very basic implementation of a Multilayer Perceptron. Don't waste too much time trying to figure out how it works -- the important detail is that it allows you to pass in a list of input, hidden layer, and output *widths*. **Your** implementation should also support this for the exercises to come."
      ]
    },
    {
      "cell_type": "code",
      "execution_count": null,
      "id": "8c1e503a-37df-4fb9-94e7-85d0adb494bd",
      "metadata": {
        "tags": [],
        "id": "8c1e503a-37df-4fb9-94e7-85d0adb494bd"
      },
      "outputs": [],
      "source": [
        "#Module è la classe base per tutti i moduli di reti neurali di pytorch.\n",
        "#creiamo la classe MLP usando l'ereditarietà della classe Module, così ne avrà tutti gli attributi e metodi e può definirne i suoi.\n",
        "\n",
        "\n",
        "class MLP(nn.Module):\n",
        "    def __init__(self, layer_sizes):\n",
        "        #chiama il costruttore della classe padre per inizializzare gli attributi ereditati.\n",
        "        super().__init__()\n",
        "        #crea un LISTA di layer lineari e li memorizza nell'attributo layers.\n",
        "        #layer size_sizes è una lista che specifica il numero di neuroni per layer.\n",
        "\n",
        "        self.layers = nn.ModuleList([nn.Linear(nin, nout) for (nin, nout) in zip(layer_sizes[:-1], layer_sizes[1:])])\n",
        "\n",
        "    def forward(self, x):\n",
        "        return reduce(lambda f, g: lambda x: g(F.relu(f(x))), self.layers, lambda x: x.flatten(1))(x)"
      ]
    },
    {
      "cell_type": "markdown",
      "source": [],
      "metadata": {
        "id": "Agq0FlYgsx27"
      },
      "id": "Agq0FlYgsx27"
    },
    {
      "cell_type": "markdown",
      "id": "4ae06e26-8fa3-414e-a502-8d1c18ba9eb7",
      "metadata": {
        "id": "4ae06e26-8fa3-414e-a502-8d1c18ba9eb7"
      },
      "source": [
        "#### A *very* minimal training pipeline.\n",
        "\n",
        "Here is some basic training and evaluation code to get you started.\n",
        "\n",
        "**Important**: I cannot stress enough that this is a **terrible** example of how to implement a training pipeline. You can do better!"
      ]
    },
    {
      "cell_type": "code",
      "execution_count": null,
      "id": "fc89e48f-d8f3-4122-842d-1ff389499854",
      "metadata": {
        "tags": [],
        "colab": {
          "base_uri": "https://localhost:8080/",
          "height": 1000
        },
        "id": "fc89e48f-d8f3-4122-842d-1ff389499854",
        "outputId": "ea03c7e2-620a-4124-c312-ecff7d495d18",
        "collapsed": true
      },
      "outputs": [
        {
          "output_type": "stream",
          "name": "stderr",
          "text": [
            "Training epoch 0: 100%|██████████| 430/430 [00:12<00:00, 33.67it/s]\n",
            "Training epoch 1: 100%|██████████| 430/430 [00:09<00:00, 43.99it/s]\n",
            "Training epoch 2: 100%|██████████| 430/430 [00:09<00:00, 44.20it/s]\n",
            "Training epoch 3: 100%|██████████| 430/430 [00:10<00:00, 39.34it/s]\n",
            "Training epoch 4: 100%|██████████| 430/430 [00:10<00:00, 40.80it/s]\n",
            "Training epoch 5: 100%|██████████| 430/430 [00:10<00:00, 40.79it/s]\n",
            "Training epoch 6: 100%|██████████| 430/430 [00:11<00:00, 38.76it/s]\n",
            "Training epoch 7: 100%|██████████| 430/430 [00:11<00:00, 38.70it/s]\n",
            "Training epoch 8: 100%|██████████| 430/430 [00:10<00:00, 39.74it/s]\n",
            "Training epoch 9: 100%|██████████| 430/430 [00:11<00:00, 38.52it/s]\n",
            "Training epoch 10: 100%|██████████| 430/430 [00:10<00:00, 39.20it/s]\n",
            "Training epoch 11: 100%|██████████| 430/430 [00:10<00:00, 40.46it/s]\n",
            "Training epoch 12: 100%|██████████| 430/430 [00:10<00:00, 39.76it/s]\n",
            "Training epoch 13: 100%|██████████| 430/430 [00:10<00:00, 40.52it/s]\n",
            "Training epoch 14: 100%|██████████| 430/430 [00:10<00:00, 40.59it/s]\n",
            "Training epoch 15: 100%|██████████| 430/430 [00:09<00:00, 43.45it/s]\n",
            "Training epoch 16: 100%|██████████| 430/430 [00:09<00:00, 43.08it/s]\n",
            "Training epoch 17: 100%|██████████| 430/430 [00:10<00:00, 41.75it/s]\n",
            "Training epoch 18: 100%|██████████| 430/430 [00:10<00:00, 41.26it/s]\n",
            "Training epoch 19: 100%|██████████| 430/430 [00:10<00:00, 40.93it/s]\n",
            "Training epoch 20: 100%|██████████| 430/430 [00:10<00:00, 40.98it/s]\n",
            "Training epoch 21: 100%|██████████| 430/430 [00:10<00:00, 41.02it/s]\n",
            "Training epoch 22: 100%|██████████| 430/430 [00:10<00:00, 40.05it/s]\n",
            "Training epoch 23: 100%|██████████| 430/430 [00:10<00:00, 41.54it/s]\n",
            "Training epoch 24: 100%|██████████| 430/430 [00:10<00:00, 41.59it/s]\n",
            "Training epoch 25: 100%|██████████| 430/430 [00:09<00:00, 44.38it/s]\n",
            "Training epoch 26: 100%|██████████| 430/430 [00:09<00:00, 45.00it/s]\n",
            "Training epoch 27: 100%|██████████| 430/430 [00:10<00:00, 42.51it/s]\n",
            "Training epoch 28: 100%|██████████| 430/430 [00:10<00:00, 41.58it/s]\n",
            "Training epoch 29: 100%|██████████| 430/430 [00:10<00:00, 41.91it/s]\n",
            "Training epoch 30: 100%|██████████| 430/430 [00:10<00:00, 41.56it/s]\n",
            "Training epoch 31: 100%|██████████| 430/430 [00:10<00:00, 41.71it/s]\n",
            "Training epoch 32: 100%|██████████| 430/430 [00:10<00:00, 40.63it/s]\n",
            "Training epoch 33: 100%|██████████| 430/430 [00:10<00:00, 41.86it/s]\n",
            "Training epoch 34: 100%|██████████| 430/430 [00:09<00:00, 44.77it/s]\n",
            "Training epoch 35: 100%|██████████| 430/430 [00:09<00:00, 44.49it/s]\n",
            "Training epoch 36: 100%|██████████| 430/430 [00:10<00:00, 42.20it/s]\n",
            "Training epoch 37: 100%|██████████| 430/430 [00:10<00:00, 41.26it/s]\n",
            "Training epoch 38: 100%|██████████| 430/430 [00:10<00:00, 41.35it/s]\n",
            "Training epoch 39: 100%|██████████| 430/430 [00:10<00:00, 41.21it/s]\n",
            "Training epoch 40: 100%|██████████| 430/430 [00:10<00:00, 41.30it/s]\n",
            "Training epoch 41: 100%|██████████| 430/430 [00:10<00:00, 41.61it/s]\n",
            "Training epoch 42: 100%|██████████| 430/430 [00:10<00:00, 41.69it/s]\n",
            "Training epoch 43: 100%|██████████| 430/430 [00:09<00:00, 43.50it/s]\n",
            "Training epoch 44: 100%|██████████| 430/430 [00:09<00:00, 45.71it/s]\n",
            "Training epoch 45: 100%|██████████| 430/430 [00:09<00:00, 43.02it/s]\n",
            "Training epoch 46: 100%|██████████| 430/430 [00:10<00:00, 41.40it/s]\n",
            "Training epoch 47: 100%|██████████| 430/430 [00:10<00:00, 41.91it/s]\n",
            "Training epoch 48: 100%|██████████| 430/430 [00:10<00:00, 42.07it/s]\n",
            "Training epoch 49: 100%|██████████| 430/430 [00:10<00:00, 41.67it/s]\n",
            "Training epoch 50: 100%|██████████| 430/430 [00:10<00:00, 41.60it/s]\n",
            "Training epoch 51: 100%|██████████| 430/430 [00:10<00:00, 41.38it/s]\n",
            "Training epoch 52: 100%|██████████| 430/430 [00:09<00:00, 44.04it/s]\n",
            "Training epoch 53: 100%|██████████| 430/430 [00:09<00:00, 45.66it/s]\n",
            "Training epoch 54: 100%|██████████| 430/430 [00:10<00:00, 42.41it/s]\n",
            "Training epoch 55: 100%|██████████| 430/430 [00:10<00:00, 41.86it/s]\n",
            "Training epoch 56: 100%|██████████| 430/430 [00:10<00:00, 41.66it/s]\n",
            "Training epoch 57: 100%|██████████| 430/430 [00:10<00:00, 39.89it/s]\n",
            "Training epoch 58: 100%|██████████| 430/430 [00:11<00:00, 38.26it/s]\n",
            "Training epoch 59: 100%|██████████| 430/430 [00:10<00:00, 39.82it/s]\n",
            "Training epoch 60: 100%|██████████| 430/430 [00:10<00:00, 40.29it/s]\n",
            "Training epoch 61: 100%|██████████| 430/430 [00:10<00:00, 40.26it/s]\n",
            "Training epoch 62: 100%|██████████| 430/430 [00:10<00:00, 39.96it/s]\n",
            "Training epoch 63: 100%|██████████| 430/430 [00:10<00:00, 42.23it/s]\n",
            "Training epoch 64: 100%|██████████| 430/430 [00:09<00:00, 43.49it/s]\n",
            "Training epoch 65: 100%|██████████| 430/430 [00:10<00:00, 42.63it/s]\n",
            "Training epoch 66: 100%|██████████| 430/430 [00:10<00:00, 40.96it/s]\n",
            "Training epoch 67: 100%|██████████| 430/430 [00:10<00:00, 40.34it/s]\n",
            "Training epoch 68: 100%|██████████| 430/430 [00:10<00:00, 41.03it/s]\n",
            "Training epoch 69: 100%|██████████| 430/430 [00:10<00:00, 41.20it/s]\n",
            "Training epoch 70: 100%|██████████| 430/430 [00:10<00:00, 40.61it/s]\n",
            "Training epoch 71: 100%|██████████| 430/430 [00:10<00:00, 40.94it/s]\n",
            "Training epoch 72: 100%|██████████| 430/430 [00:10<00:00, 40.94it/s]\n",
            "Training epoch 73: 100%|██████████| 430/430 [00:10<00:00, 40.32it/s]\n",
            "Training epoch 74: 100%|██████████| 430/430 [00:10<00:00, 42.04it/s]\n",
            "Training epoch 75: 100%|██████████| 430/430 [00:10<00:00, 42.31it/s]\n",
            "Training epoch 76: 100%|██████████| 430/430 [00:09<00:00, 43.15it/s]\n",
            "Training epoch 77: 100%|██████████| 430/430 [00:10<00:00, 41.45it/s]\n",
            "Training epoch 78: 100%|██████████| 430/430 [00:10<00:00, 39.88it/s]\n",
            "Training epoch 79: 100%|██████████| 430/430 [00:10<00:00, 40.74it/s]\n",
            "Training epoch 80: 100%|██████████| 430/430 [00:10<00:00, 39.94it/s]\n",
            "Training epoch 81: 100%|██████████| 430/430 [00:10<00:00, 40.26it/s]\n",
            "Training epoch 82: 100%|██████████| 430/430 [00:10<00:00, 41.23it/s]\n",
            "Training epoch 83: 100%|██████████| 430/430 [00:10<00:00, 40.34it/s]\n",
            "Training epoch 84: 100%|██████████| 430/430 [00:10<00:00, 40.66it/s]\n",
            "Training epoch 85: 100%|██████████| 430/430 [00:10<00:00, 41.37it/s]\n",
            "Training epoch 86: 100%|██████████| 430/430 [00:09<00:00, 43.00it/s]\n",
            "Training epoch 87: 100%|██████████| 430/430 [00:09<00:00, 43.43it/s]\n",
            "Training epoch 88: 100%|██████████| 430/430 [00:10<00:00, 40.97it/s]\n",
            "Training epoch 89: 100%|██████████| 430/430 [00:10<00:00, 40.85it/s]\n",
            "Training epoch 90: 100%|██████████| 430/430 [00:10<00:00, 40.58it/s]\n",
            "Training epoch 91: 100%|██████████| 430/430 [00:10<00:00, 39.69it/s]\n",
            "Training epoch 92: 100%|██████████| 430/430 [00:10<00:00, 40.53it/s]\n",
            "Training epoch 93: 100%|██████████| 430/430 [00:10<00:00, 40.62it/s]\n",
            "Training epoch 94: 100%|██████████| 430/430 [00:10<00:00, 40.75it/s]\n",
            "Training epoch 95: 100%|██████████| 430/430 [00:10<00:00, 40.81it/s]\n",
            "Training epoch 96: 100%|██████████| 430/430 [00:10<00:00, 41.48it/s]\n",
            "Training epoch 97: 100%|██████████| 430/430 [00:09<00:00, 44.07it/s]\n",
            "Training epoch 98: 100%|██████████| 430/430 [00:09<00:00, 43.28it/s]\n",
            "Training epoch 99: 100%|██████████| 430/430 [00:10<00:00, 40.21it/s]\n"
          ]
        },
        {
          "output_type": "stream",
          "name": "stdout",
          "text": [
            "Accuracy report on TEST:\n",
            "               precision    recall  f1-score   support\n",
            "\n",
            "           0      0.968     0.979     0.973       980\n",
            "           1      0.982     0.986     0.984      1135\n",
            "           2      0.938     0.937     0.937      1032\n",
            "           3      0.930     0.930     0.930      1010\n",
            "           4      0.945     0.954     0.949       982\n",
            "           5      0.929     0.913     0.921       892\n",
            "           6      0.953     0.966     0.959       958\n",
            "           7      0.953     0.940     0.946      1028\n",
            "           8      0.924     0.933     0.928       974\n",
            "           9      0.943     0.927     0.935      1009\n",
            "\n",
            "    accuracy                          0.947     10000\n",
            "   macro avg      0.946     0.946     0.946     10000\n",
            "weighted avg      0.947     0.947     0.947     10000\n",
            "\n"
          ]
        },
        {
          "output_type": "display_data",
          "data": {
            "text/plain": [
              "<Figure size 1600x800 with 2 Axes>"
            ],
            "image/png": "[encoded data removed]"
          },
          "metadata": {}
        }
      ],
      "source": []
    },
    {
      "cell_type": "markdown",
      "id": "de2cad13-ee2c-4e43-b5c7-31760da8c2df",
      "metadata": {
        "id": "de2cad13-ee2c-4e43-b5c7-31760da8c2df"
      },
      "source": [
        "### Exercise 1.1: A baseline MLP\n",
        "\n",
        "Implement a *simple* Multilayer Perceptron to classify the 10 digits of MNIST (e.g. two *narrow* layers). Use my code above as inspiration, but implement your own training pipeline -- you will need it later. Train this model to convergence, monitoring (at least) the loss and accuracy on the training and validation sets for every epoch. Below I include a basic implementation to get you started -- remember that you should write your *own* pipeline!\n",
        "\n",
        "**Note**: This would be a good time to think about *abstracting* your model definition, and training and evaluation pipelines in order to make it easier to compare performance of different models.\n",
        "\n",
        "**Important**: Given the *many* runs you will need to do, and the need to *compare* performance between them, this would **also** be a great point to study how **Tensorboard** or **Weights and Biases** can be used for performance monitoring."
      ]
    },
    {
      "cell_type": "markdown",
      "metadata": {
        "id": "6ItbmUuAKUa6"
      },
      "source": [
        "### Exercise 1.1: A baseline MLP\n",
        "\n",
        "Implement a *simple* Multilayer Perceptron to classify the 10 digits of MNIST (e.g. two *narrow* layers). Use my code above as inspiration, but implement your own training pipeline -- you will need it later. Train this model to convergence, monitoring (at least) the loss and accuracy on the training and validation sets for every epoch. Below I include a basic implementation to get you started -- remember that you should write your *own* pipeline!\n",
        "\n",
        "**Note**: This would be a good time to think about *abstracting* your model definition, and training and evaluation pipelines in order to make it easier to compare performance of different models.\n",
        "\n",
        "**Important**: Given the *many* runs you will need to do, and the need to *compare* performance between them, this would **also** be a great point to study how **Tensorboard** or **Weights and Biases** can be used for performance monitoring."
      ],
      "id": "6ItbmUuAKUa6"
    },
    {
      "cell_type": "code",
      "source": [
        "# Start with some standard imports.\n",
        "import numpy as np\n",
        "import matplotlib.pyplot as plt\n",
        "from functools import reduce\n",
        "import torch\n",
        "from torchvision.datasets import MNIST\n",
        "from torch.utils.data import Subset\n",
        "import torch.nn as nn\n",
        "import torch.nn.functional as F\n",
        "import torchvision.transforms as transforms\n",
        "from tqdm import tqdm\n",
        "from sklearn.metrics import accuracy_score, classification_report\n",
        "import torch.optim as optim\n"
      ],
      "metadata": {
        "id": "6QYaj-L4kirt"
      },
      "id": "6QYaj-L4kirt",
      "execution_count": null,
      "outputs": []
    },
    {
      "cell_type": "code",
      "source": [
        "# Standard MNIST transform.\n",
        "transform = transforms.Compose([\n",
        "    transforms.ToTensor(),\n",
        "    transforms.Normalize((0.1307,), (0.3081,))\n",
        "])\n",
        "\n",
        "# Load MNIST train and test.\n",
        "ds_train = MNIST(root='./data', train=True, download=True, transform=transform)\n",
        "ds_test = MNIST(root='./data', train=False, download=True, transform=transform)\n",
        "\n",
        "# Split train into train and validation.\n",
        "train_size = int(0.9*len(ds_train))\n",
        "val_size = len(ds_train) - train_size\n",
        "ds_train, ds_val = torch.utils.data.random_split(ds_train, [train_size, val_size])\n",
        "\n",
        "#dataloader creation\n",
        "train_loader = torch.utils.data.DataLoader(ds_train, batch_size=128, shuffle=True, num_workers=2)\n",
        "val_loader = torch.utils.data.DataLoader(ds_val, batch_size=128, shuffle=False, num_workers=2)\n",
        "test_loader = torch.utils.data.DataLoader(ds_test, batch_size=128, shuffle=False, num_workers=2)"
      ],
      "metadata": {
        "id": "9QDrttuzkjnL",
        "colab": {
          "base_uri": "https://localhost:8080/"
        },
        "outputId": "7c0f6820-210a-4878-caaa-4de49f3e3eb8"
      },
      "id": "9QDrttuzkjnL",
      "execution_count": null,
      "outputs": [
        {
          "output_type": "stream",
          "name": "stderr",
          "text": [
            "100%|██████████| 9.91M/9.91M [00:00<00:00, 16.3MB/s]\n",
            "100%|██████████| 28.9k/28.9k [00:00<00:00, 483kB/s]\n",
            "100%|██████████| 1.65M/1.65M [00:00<00:00, 4.48MB/s]\n",
            "100%|██████████| 4.54k/4.54k [00:00<00:00, 8.91MB/s]\n"
          ]
        }
      ]
    },
    {
      "cell_type": "code",
      "source": [
        "print(f\"prind ds_train is {len(ds_train)}\")\n",
        "print(f\"prind ds_val is {len(ds_val)}\")\n",
        "print(f\"prind ds_len is {len(ds_test)}\")\n",
        "print(f\"prind ds_train is {len(train_loader)}\")#numero di batch\n"
      ],
      "metadata": {
        "id": "voAkPdM8SwJF",
        "colab": {
          "base_uri": "https://localhost:8080/"
        },
        "outputId": "e3173922-cd9a-426b-a973-16bac39f7c44"
      },
      "id": "voAkPdM8SwJF",
      "execution_count": null,
      "outputs": [
        {
          "output_type": "stream",
          "name": "stdout",
          "text": [
            "prind ds_train is 54000\n",
            "prind ds_val is 6000\n",
            "prind ds_len is 10000\n",
            "prind ds_train is 422\n"
          ]
        }
      ]
    },
    {
      "cell_type": "code",
      "execution_count": null,
      "id": "19d96405-36e7-4074-803c-fb02576cd528",
      "metadata": {
        "tags": [],
        "id": "19d96405-36e7-4074-803c-fb02576cd528",
        "collapsed": true
      },
      "outputs": [],
      "source": [
        "#model definition\n",
        "class MLP(nn.Module):\n",
        "  def __init__(self, input_size, hidden_size, output_size):\n",
        "    super(MLP, self).__init__()\n",
        "    self.fc1 = nn.Linear(input_size, hidden_size)#linear crea layer fully connected\n",
        "    self.fc2 = nn.Linear(hidden_size, output_size)\n",
        "\n",
        "  def forward(self, x):\n",
        "    x = x.view(-1, input_size)#trasforma immagine input in vettore da 28*28 a vettore 784, perchè gli specifico input size 784 e le altre dim le calcola lui\n",
        "    x = torch.relu(self.fc1(x))\n",
        "    x = self.fc2(x)\n",
        "    return x\n"
      ]
    },
    {
      "cell_type": "code",
      "source": [
        "#training function and validation function definition\n",
        "def train_mlp(model, train_loader, val_loader, epochs, lr):\n",
        "  device = torch.device('cuda' if torch.cuda.is_available() else 'cpu')\n",
        "  model.to(device)\n",
        "  optimizer = optim.Adam(model.parameters(), lr=lr)\n",
        "  train_losses = []\n",
        "  val_accuracies = []\n",
        "\n",
        "  for epoch in range(epochs):\n",
        "    model.train()\n",
        "    train_loss = 0.0\n",
        "    #batch_index è l'indice batch corrente.\n",
        "    #enumerate restituisce una tupla con indice del batch e i dati ((data, target)) corrispettivi all'indice\n",
        "    for batch_idx, (data, target) in enumerate(tqdm(train_loader, desc=f'Training epoch {epoch + 1}')):\n",
        "      data, target = data.to(device), target.to(device)\n",
        "      optimizer.zero_grad()#senno sommo i gradienti delle batch\n",
        "      output = model(data)\n",
        "      loss = F.cross_entropy(output, target)\n",
        "      loss.backward()\n",
        "      optimizer.step()\n",
        "      train_loss += loss.item()\n",
        "\n",
        "    train_loss /= len(train_loader.dataset)#calcolo loss media dell'epoca, train_load.dataset è numero batch in trainloader\n",
        "    train_losses.append(train_loss)\n",
        "\n",
        "    model.eval()\n",
        "    val_accuracy = 0.0\n",
        "    with torch.no_grad():\n",
        "       for data, target in val_loader:\n",
        "           data, target = data.to(device), target.to(device)\n",
        "           output = model(data)\n",
        "           pred = output.argmax(dim=1, keepdim=True)\n",
        "           val_accuracy += pred.eq(target.view_as(pred)).sum().item()\n",
        "\n",
        "    val_accuracy /= len(val_loader.dataset)\n",
        "    val_accuracies.append(val_accuracy)\n",
        "\n",
        "    print(f'Epoch {epoch + 1}: Train Loss: {train_loss:.4f}, Validation Accuracy: {val_accuracy:.4f}')\n",
        "\n",
        "  return train_losses, val_accuracies\n"
      ],
      "metadata": {
        "id": "hq-t7kJXl1mP"
      },
      "id": "hq-t7kJXl1mP",
      "execution_count": null,
      "outputs": []
    },
    {
      "cell_type": "code",
      "source": [
        "#function of evaluation\n",
        "def evaluate_model(model, test_loader):\n",
        "  device = torch.device('cuda' if torch.cuda.is_available() else 'cpu')\n",
        "  model.to(device)\n",
        "  model.eval()\n",
        "  predictions = []\n",
        "  gts = []\n",
        "\n",
        "  with torch.no_grad():\n",
        "    for data, target in tqdm(test_loader, desc='Evaluating'):\n",
        "      data, target = data.to(device), target.to(device)\n",
        "      output = model(data)\n",
        "      pred = output.argmax(dim=1, keepdim=True)\n",
        "      gts.extend(target.cpu().numpy())\n",
        "      predictions.extend(pred.detach().cpu().numpy().flatten())\n",
        "\n",
        "  return accuracy_score(np.hstack(gts), np.hstack(predictions)), classification_report(np.hstack(gts), np.hstack(predictions), zero_division=0, digits=3)\n",
        "\n",
        "\n",
        "#plottiamo accuratezza e loss\n",
        "def plot_validation_curves(train_losses, val_accuracies):\n",
        "  losses = [x for x  in train_losses]\n",
        "  accs = [x for x in val_accuracies]\n",
        "  plt.figure(figsize=(16, 8))\n",
        "  plt.subplot(1, 2, 1)\n",
        "  plt.plot(losses)\n",
        "  plt.xlabel('Epoch')\n",
        "  plt.ylabel('Loss')\n",
        "  plt.title('Average Training Loss per Epoch')\n",
        "  plt.subplot(1, 2, 2)\n",
        "  plt.plot(accs)\n",
        "  plt.xlabel('Epoch')\n",
        "  plt.ylabel('Validation Accuracy')\n",
        "\n"
      ],
      "metadata": {
        "id": "QBaCapMgBzr1"
      },
      "execution_count": null,
      "outputs": [],
      "id": "QBaCapMgBzr1"
    },
    {
      "cell_type": "code",
      "source": [
        "#create, train and evaluate mlp\n",
        "input_size = 28 * 28\n",
        "hidden_size = 16\n",
        "output_size = 10\n",
        "model = MLP(input_size, hidden_size, output_size)\n",
        "epochs = 100\n",
        "lr = 0.001\n",
        "\n",
        "train_losses, val_accuracies = train_mlp(model,train_loader, val_loader, epochs, lr)\n",
        "\n",
        "#plot loss and accuracy\n",
        "plot_validation_curves(train_losses, val_accuracies)\n",
        "\n",
        "\n"
      ],
      "metadata": {
        "collapsed": true,
        "id": "HcHiesRCB1ug"
      },
      "execution_count": null,
      "outputs": [],
      "id": "HcHiesRCB1ug"
    },
    {
      "cell_type": "code",
      "source": [
        "#evaluating model on testset\n",
        "test_accuracy, classification_rep= evaluate_model(model, test_loader)\n",
        "print(f'Test Accuracy: {test_accuracy:.4f}')\n",
        "print('Classification Report:\\n', classification_rep)"
      ],
      "metadata": {
        "id": "tXXc-MMpWwkj"
      },
      "id": "tXXc-MMpWwkj",
      "execution_count": null,
      "outputs": []
    },
    {
      "cell_type": "markdown",
      "id": "0fb8ad9b-e3ae-4c49-9bec-35aaea149b08",
      "metadata": {
        "id": "0fb8ad9b-e3ae-4c49-9bec-35aaea149b08"
      },
      "source": [
        "### Exercise 1.2: Adding Residual Connections\n",
        "\n",
        "Implement a variant of your parameterized MLP network to support **residual** connections. Your network should be defined as a composition of **residual MLP** blocks that have one or more linear layers and add a skip connection from the block input to the output of the final linear layer.\n",
        "\n",
        "**Compare** the performance (in training/validation loss and test accuracy) of your MLP and ResidualMLP for a range of depths. Verify that deeper networks **with** residual connections are easier to train than a network of the same depth **without** residual connections.\n",
        "\n",
        "**For extra style points**: See if you can explain by analyzing the gradient magnitudes on a single training batch *why* this is the case."
      ]
    },
    {
      "cell_type": "code",
      "execution_count": null,
      "id": "90bcff82-756a-4ffa-92ae-a939fa21f5fd",
      "metadata": {
        "tags": [],
        "id": "90bcff82-756a-4ffa-92ae-a939fa21f5fd"
      },
      "outputs": [],
      "source": [
        "#un blocco residuale è l'insieme di più layer, all'uscita dell'ultimo layer del blocco si aggiunnge l'ingresso del blocco stesso.\n",
        "class ResidualBlock(nn.Module):\n",
        "  def __init__(self,input_size, hidden_size):\n",
        "    super(ResidualBlock, self).__init__()\n",
        "    self.fc1 = nn.Linear(input_size, hidden_size)\n",
        "    self.fc2 = nn.Linear(hidden_size, input_size)\n",
        "\n",
        "  def forward(self, x):\n",
        "    idetity = x\n",
        "    out = F.relu(self.fc1(x))\n",
        "    out = self.fc2(out)\n",
        "    out += idetity\n",
        "    out = F.relu(out)\n",
        "    return out\n",
        "\n",
        "class ResidualMLP(nn.Module):\n",
        "  def __init__(self, input_size, hidden_size, output_size, num_blocks):\n",
        "    super(ResidualMLP, self).__init__()\n",
        "    self.fc1 = nn.Linear(input_size, hidden_size)\n",
        "    self.blocks = nn.Sequential(*[ResidualBlock(hidden_size, hidden_size) for _ in range(num_blocks)])\n",
        "    self.fc2 = nn.Linear(hidden_size, output_size)\n",
        "\n",
        "  def forward(self, x):\n",
        "        x = x.view(-1, input_size)\n",
        "        x = F.relu(self.fc1(x))\n",
        "        x = self.blocks(x)\n",
        "        x = self.fc2(x)\n",
        "        return x\n",
        "\n",
        "\n",
        "\n"
      ]
    },
    {
      "cell_type": "code",
      "source": [
        "#create, train and evaluate mlp\n",
        "input_size = 28 * 28\n",
        "hidden_size = 16\n",
        "output_size = 10\n",
        "num_blocks = 3\n",
        "model = ResidualMLP(input_size, hidden_size, output_size, num_blocks)\n",
        "epochs = 100\n",
        "lr = 0.001\n",
        "\n",
        "train_losses, val_accuracies = train_mlp(model,train_loader, val_loader, epochs, lr)\n",
        "\n",
        "#plot loss and accuracy\n",
        "plot_validation_curves(train_losses, val_accuracies)"
      ],
      "metadata": {
        "id": "ouoK52_kBX0w"
      },
      "id": "ouoK52_kBX0w",
      "execution_count": null,
      "outputs": []
    },
    {
      "cell_type": "markdown",
      "id": "3c59bdd8-3377-4311-b45f-511c2fb0b53e",
      "metadata": {
        "id": "3c59bdd8-3377-4311-b45f-511c2fb0b53e"
      },
      "source": [
        "### Exercise 1.3: Rinse and Repeat (but with a CNN)\n",
        "\n",
        "Repeat the verification you did above, but with **Convolutional** Neural Networks. If you were careful about abstracting your model and training code, this should be a simple exercise. Show that **deeper** CNNs *without* residual connections do not always work better and **even deeper** ones *with* residual connections.\n",
        "\n",
        "**Hint**: You probably should do this exercise using CIFAR-10, since MNIST is *very* easy (at least up to about 99% accuracy).\n",
        "\n",
        "**Tip**: Feel free to reuse the ResNet building blocks defined in `torchvision.models.resnet` (e.g. [BasicBlock](https://github.com/pytorch/vision/blob/main/torchvision/models/resnet.py#L59) which handles the cascade of 3x3 convolutions, skip connections, and optional downsampling). This is an excellent exercise in code diving.\n",
        "\n",
        "**Spoiler**: Depending on the optional exercises you plan to do below, you should think *very* carefully about the architectures of your CNNs here (so you can reuse them!)."
      ]
    },
    {
      "cell_type": "markdown",
      "source": [
        "#importo librerie e dataset"
      ],
      "metadata": {
        "id": "VYORHCTD703B"
      },
      "id": "VYORHCTD703B"
    },
    {
      "cell_type": "code",
      "execution_count": null,
      "id": "3c8baa0e-b17f-4a77-8a88-dadfdc6763ea",
      "metadata": {
        "id": "3c8baa0e-b17f-4a77-8a88-dadfdc6763ea",
        "colab": {
          "base_uri": "https://localhost:8080/"
        },
        "outputId": "49d7182d-fbd8-47b5-c256-5516acfa81eb",
        "collapsed": true
      },
      "outputs": [
        {
          "output_type": "stream",
          "name": "stdout",
          "text": [
            "Logged in to Weights & Biases\n",
            "✅ CIFAR-100 caricato con successo.\n"
          ]
        }
      ],
      "source": [
        "import numpy as np\n",
        "import matplotlib.pyplot as plt\n",
        "from functools import reduce\n",
        "import torch\n",
        "import torchvision\n",
        "import torchvision.transforms as transforms\n",
        "from torch.utils.data import Subset\n",
        "import torch.nn as nn\n",
        "import torch.nn.functional as F\n",
        "from tqdm import tqdm\n",
        "from sklearn.metrics import accuracy_score, classification_report\n",
        "import torch.optim as optim\n",
        "import wandb\n",
        "import copy\n",
        "import torchvision.datasets as datasets\n",
        "\n",
        "wandb.login()\n",
        "print(\"Logged in to Weights & Biases\")\n",
        "\n",
        "def calculate_dataset_stats(dataset):\n",
        "    loader = torch.utils.data.DataLoader(dataset, batch_size=1024, shuffle=False, num_workers=2)\n",
        "    total_sum = torch.zeros(3)\n",
        "    total_squared_sum = torch.zeros(3)\n",
        "    num_pixels = 0\n",
        "    for images, _ in loader:\n",
        "        total_sum += torch.sum(images, dim=(0, 2, 3))\n",
        "        total_squared_sum += torch.sum(images**2, dim=(0, 2, 3))\n",
        "        num_pixels += images.shape[0] * images.shape[2] * images.shape[3]\n",
        "    mean = total_sum / num_pixels\n",
        "    std = torch.sqrt((total_squared_sum / num_pixels) - (mean**2))\n",
        "    return mean, std\n",
        "\n",
        "def prepare_cifar10_datasets(batch_size=128):\n",
        "    transform_calc = transforms.Compose([transforms.ToTensor()])\n",
        "    trainset_calc_stats = torchvision.datasets.CIFAR10(root='./data', train=True, download=True, transform=transform_calc)\n",
        "    mean, std = calculate_dataset_stats(trainset_calc_stats)\n",
        "\n",
        "    transform_train_val = transforms.Compose([\n",
        "        transforms.RandomCrop(32, padding=4),\n",
        "        transforms.RandomHorizontalFlip(),\n",
        "        transforms.ToTensor(),\n",
        "        transforms.Normalize(mean, std)\n",
        "    ])\n",
        "\n",
        "    transform_test = transforms.Compose([\n",
        "        transforms.ToTensor(),\n",
        "        transforms.Normalize(mean, std)\n",
        "    ])\n",
        "\n",
        "    ds_train_full = torchvision.datasets.CIFAR10(root='./data', train=True, download=True, transform=transform_train_val)\n",
        "    ds_test = torchvision.datasets.CIFAR10(root='./data', train=False, download=True, transform=transform_test)\n",
        "\n",
        "    train_size = int(0.9 * len(ds_train_full))\n",
        "    val_size = len(ds_train_full) - train_size\n",
        "    ds_train, ds_val = torch.utils.data.random_split(ds_train_full, [train_size, val_size])\n",
        "\n",
        "    train_loader = torch.utils.data.DataLoader(ds_train, batch_size=batch_size, shuffle=True, num_workers=2)\n",
        "    val_loader = torch.utils.data.DataLoader(ds_val, batch_size=batch_size, shuffle=False, num_workers=2)\n",
        "    test_loader = torch.utils.data.DataLoader(ds_test, batch_size=batch_size, shuffle=False, num_workers=2)\n",
        "\n",
        "    return train_loader, val_loader, test_loader, mean, std\n",
        "\n",
        "# Esegui per calcolare mean e std E caricare CIFAR-10 dataloaders PRIMA di definire prepare_cifar100_datasets\n",
        "train_loader, val_loader, test_loader, mean, std = prepare_cifar10_datasets(batch_size=128)\n",
        "\n",
        "# Spostato da cella 1dt3eBoFDbKE\n",
        "def prepare_cifar100_datasets(mean, std, batch_size=128):\n",
        "    transform_cifar100 = transforms.Compose([\n",
        "        transforms.ToTensor(),\n",
        "        transforms.Normalize(mean, std)\n",
        "    ])\n",
        "\n",
        "    cifar100_train = datasets.CIFAR100(root='./data', train=True, download=True, transform=transform_cifar100)\n",
        "    cifar100_test = datasets.CIFAR100(root='./data', train=False, download=True, transform=transform_cifar100)\n",
        "\n",
        "    cifar100_train_loader = torch.utils.data.DataLoader(cifar100_train, batch_size=batch_size, shuffle=False, num_workers=2)\n",
        "    cifar100_test_loader = torch.utils.data.DataLoader(cifar100_test, batch_size=batch_size, shuffle=False, num_workers=2)\n",
        "\n",
        "    print(\"✅ CIFAR-100 caricato con successo.\")\n",
        "    return cifar100_train_loader, cifar100_test_loader\n",
        "\n",
        "# Esegui per caricare CIFAR-100 dataloaders DOPO che mean e std sono stati calcolati\n",
        "cifar100_train_loader, cifar100_test_loader = prepare_cifar100_datasets(mean, std, batch_size=128)"
      ]
    },
    {
      "cell_type": "markdown",
      "source": [
        "#definisco il modello"
      ],
      "metadata": {
        "id": "hImWSgxr752z"
      },
      "id": "hImWSgxr752z"
    },
    {
      "cell_type": "code",
      "source": [
        "class FlexibleCNN(nn.Module):\n",
        "    def __init__(self, num_filters=[32, 64, 128], dropout_prob=0.2):\n",
        "        super(FlexibleCNN, self).__init__()\n",
        "        self.num_filters = num_filters\n",
        "        self.dropout_prob = dropout_prob\n",
        "\n",
        "        self.conv_blocks = nn.ModuleList()\n",
        "        in_channels = 3\n",
        "        for out_channels in num_filters:\n",
        "            block = nn.Sequential(\n",
        "                nn.Conv2d(in_channels, out_channels, kernel_size=3, padding=1),\n",
        "                nn.BatchNorm2d(out_channels),\n",
        "                nn.ReLU(),\n",
        "                nn.MaxPool2d(kernel_size=2, stride=2)\n",
        "            )\n",
        "            self.conv_blocks.append(block)\n",
        "            in_channels = out_channels\n",
        "\n",
        "        self.flatten_dim = (32 // (2 ** len(num_filters))) ** 2 * num_filters[-1]\n",
        "        self.fc1 = nn.Linear(self.flatten_dim, 128)\n",
        "        self.dropout = nn.Dropout(dropout_prob)\n",
        "        self.fc2 = nn.Linear(128, 10)\n",
        "\n",
        "    def forward(self, x):\n",
        "        for block in self.conv_blocks:\n",
        "            x = block(x)\n",
        "        x = x.view(x.size(0), -1)\n",
        "        x = F.relu(self.fc1(x))\n",
        "        x = self.dropout(x)\n",
        "        return self.fc2(x)\n",
        "\n",
        "def build_model(config):\n",
        "    return FlexibleCNN(\n",
        "        num_filters=config.get(\"num_filters\", [32, 64, 128]),\n",
        "        dropout_prob=config.get(\"dropout\", 0.2)\n",
        "    )"
      ],
      "metadata": {
        "id": "GlPJ9F0cIVVr"
      },
      "id": "GlPJ9F0cIVVr",
      "execution_count": null,
      "outputs": []
    },
    {
      "cell_type": "markdown",
      "source": [
        "#definisco la funzione di training"
      ],
      "metadata": {
        "id": "vHjmUnK57_Ka"
      },
      "id": "vHjmUnK57_Ka"
    },
    {
      "cell_type": "code",
      "source": [
        "def train_and_validate_epoch(model, data_loader, optimizer, device, is_train=True):\n",
        "    model.train() if is_train else model.eval()\n",
        "    desc = \"Training\" if is_train else \"Validation\"\n",
        "\n",
        "    running_loss, correct_predictions, total_samples = 0.0, 0, 0\n",
        "\n",
        "    with torch.set_grad_enabled(is_train):\n",
        "        for data, target in tqdm(data_loader, desc=desc, leave=False):\n",
        "            data, target = data.to(device), target.to(device)\n",
        "            output = model(data)\n",
        "            loss = F.cross_entropy(output, target)\n",
        "\n",
        "            if is_train:\n",
        "                optimizer.zero_grad()\n",
        "                loss.backward()\n",
        "                optimizer.step()\n",
        "\n",
        "            running_loss += loss.item() * data.size(0)\n",
        "            pred = output.argmax(dim=1, keepdim=True)\n",
        "            correct_predictions += pred.eq(target.view_as(pred)).sum().item()\n",
        "            total_samples += data.size(0)\n",
        "\n",
        "    return running_loss / total_samples, correct_predictions / total_samples\n",
        "\n",
        "def train_model_with_config(config, model, train_loader, val_loader, project_name=\"cnn\", entity_name=\"john17-universit-di-firenze\"):\n",
        "    run = wandb.init(project=project_name, entity=entity_name, config=config)\n",
        "\n",
        "    device = torch.device('cuda' if torch.cuda.is_available() else 'cpu')\n",
        "    model.to(device)\n",
        "    optimizer = optim.Adam(model.parameters(), lr=config[\"learning_rate\"], weight_decay=config[\"weight_decay\"])\n",
        "\n",
        "    all_train_losses, all_val_accuracies = [], []\n",
        "\n",
        "    for epoch in range(config[\"epochs\"]):\n",
        "        train_loss, _ = train_and_validate_epoch(model, train_loader, optimizer, device, is_train=True)\n",
        "        val_loss, val_accuracy = train_and_validate_epoch(model, val_loader, optimizer, device, is_train=False)\n",
        "        all_train_losses.append(train_loss)\n",
        "        all_val_accuracies.append(val_accuracy)\n",
        "\n",
        "        wandb.log({\"epoch\": epoch+1, \"train_loss\": train_loss, \"val_loss\": val_loss, \"val_accuracy\": val_accuracy}, step=epoch+1)\n",
        "\n",
        "    run.finish()\n",
        "    return model, all_val_accuracies[-1]"
      ],
      "metadata": {
        "id": "WgdxzDnP-D-j"
      },
      "id": "WgdxzDnP-D-j",
      "execution_count": null,
      "outputs": []
    },
    {
      "cell_type": "markdown",
      "source": [
        "#definisco la funzione di test"
      ],
      "metadata": {
        "id": "DIqQQ3px8FRL"
      },
      "id": "DIqQQ3px8FRL"
    },
    {
      "cell_type": "code",
      "source": [
        "def evaluate_model(model, test_loader, run):\n",
        "    device = torch.device('cuda' if torch.cuda.is_available() else 'cpu')\n",
        "    model.to(device).eval()\n",
        "\n",
        "    all_predictions, all_gts = [], []\n",
        "    with torch.no_grad():\n",
        "        for data, target in tqdm(test_loader, desc='Evaluating'):\n",
        "            data, target = data.to(device), target.to(device)\n",
        "            output = model(data)\n",
        "            pred = output.argmax(dim=1, keepdim=True)\n",
        "            all_gts.append(target.cpu())\n",
        "            all_predictions.append(pred.cpu())\n",
        "\n",
        "    gts_np = torch.cat(all_gts).numpy()\n",
        "    predictions_np = torch.cat(all_predictions).numpy().flatten()\n",
        "    accuracy = accuracy_score(gts_np, predictions_np)\n",
        "    report_str = classification_report(gts_np, predictions_np, zero_division=0, digits=3)\n",
        "\n",
        "    if run is not None:\n",
        "        run.log({\"test_accuracy\": accuracy, \"classification_report_text\": report_str})\n",
        "        run.log({\"confusion_matrix\": wandb.plot.confusion_matrix(probs=None, y_true=gts_np, preds=predictions_np, class_names=[str(i) for i in range(10)])})\n",
        "\n",
        "    return accuracy, report_str\n",
        "\n",
        "\n",
        "def plot_validation_curves(train_losses, val_accuracies, val_losses):\n",
        "    plt.figure(figsize=(18, 6))\n",
        "    plt.subplot(1, 3, 1)\n",
        "    plt.plot(train_losses)\n",
        "    plt.xlabel('Epoch'); plt.ylabel('Loss'); plt.title('Training Loss')\n",
        "    plt.grid(True)\n",
        "\n",
        "    plt.subplot(1, 3, 2)\n",
        "    plt.plot(val_losses, color='orange')\n",
        "    plt.xlabel('Epoch'); plt.ylabel('Loss'); plt.title('Validation Loss')\n",
        "    plt.grid(True)\n",
        "\n",
        "    plt.subplot(1, 3, 3)\n",
        "    plt.plot(val_accuracies)\n",
        "    plt.xlabel('Epoch'); plt.ylabel('Accuracy'); plt.grid(True)\n",
        "    if len(val_accuracies) > 0:\n",
        "        best_acc = np.max(val_accuracies)\n",
        "        best_epoch = np.argmax(val_accuracies)\n",
        "        plt.title(f'Val Accuracy (Best: {best_acc:.4f} @ Epoch {best_epoch + 1})')\n",
        "        plt.plot(best_epoch, best_acc, 'ro')\n",
        "    plt.tight_layout()\n",
        "    plt.show()"
      ],
      "metadata": {
        "id": "K4z5HhdkJb7W"
      },
      "id": "K4z5HhdkJb7W",
      "execution_count": null,
      "outputs": []
    },
    {
      "cell_type": "markdown",
      "source": [
        "#definisco funzione per salvare i logits"
      ],
      "metadata": {
        "id": "ipCs6RBDK3B1"
      },
      "id": "ipCs6RBDK3B1"
    },
    {
      "cell_type": "code",
      "source": [
        "def save_logits(model, dataloader, device):\n",
        "    model.eval()\n",
        "    model.to(device)\n",
        "    logits = []\n",
        "    labels = []\n",
        "\n",
        "    with torch.no_grad():\n",
        "        for x, y in tqdm(dataloader, desc=\"Salvataggio logits\"):\n",
        "            x = x.to(device)\n",
        "            out = model(x)\n",
        "            logits.append(out.cpu())\n",
        "            labels.append(y)\n",
        "\n",
        "    logits_tensor = torch.cat(logits)\n",
        "    labels_tensor = torch.cat(labels)\n",
        "    np.save(\"logits.npy\", logits_tensor.numpy())\n",
        "    np.save(\"labels.npy\", labels_tensor.numpy())\n"
      ],
      "metadata": {
        "id": "B5mgp5e6K7ga"
      },
      "id": "B5mgp5e6K7ga",
      "execution_count": null,
      "outputs": []
    },
    {
      "cell_type": "markdown",
      "source": [
        "#ciclo esperimenti più salvataggio teacher"
      ],
      "metadata": {
        "id": "bpA8xV0LWuEt"
      },
      "id": "bpA8xV0LWuEt"
    },
    {
      "cell_type": "code",
      "source": [
        "def run_experiments(config_list, train_loader, val_loader, test_loader, mean, std):\n",
        "    best_acc = 0.0\n",
        "    best_model = None\n",
        "    best_config = None\n",
        "\n",
        "    for config in config_list:\n",
        "        print(f\"\\n🔧 Avvio esperimento con config: {config}\")\n",
        "        model = build_model(config)\n",
        "        trained_model, val_acc = train_model_with_config(config, model, train_loader, val_loader)\n",
        "\n",
        "        if val_acc > best_acc:\n",
        "            best_acc = val_acc\n",
        "            best_model = copy.deepcopy(trained_model)\n",
        "            best_config = config\n",
        "\n",
        "    torch.save(best_model.state_dict(), \"best_model.pt\")\n",
        "    print(\"✅ Modello migliore salvato in best_model.pt\")\n",
        "\n",
        "    #salviamo logits del teacher\n",
        "    save_logits(best_model, train_loader, torch.device(\"cuda\" if torch.cuda.is_available() else \"cpu\"))\n",
        "\n",
        "\n",
        "    wandb_run = wandb.init(project=\"cnn_cifar10_improved\", config=best_config)\n",
        "    test_accuracy, classification_rep = evaluate_model(best_model, test_loader, wandb_run)\n",
        "    print(f\"Test Accuracy del modello migliore: {test_accuracy:.4f}\")\n",
        "    print(\"Classification Report:\\n\", classification_rep)\n",
        "\n",
        "    best_model.eval()\n",
        "    device = torch.device(\"cuda\" if torch.cuda.is_available() else \"cpu\")\n",
        "    best_model.to(device)\n",
        "    all_logits = []\n",
        "\n",
        "    with torch.no_grad():\n",
        "        for inputs, _ in tqdm(train_loader, desc=\"Teacher forward pass\"):\n",
        "            inputs = inputs.to(device)\n",
        "            outputs = best_model(inputs)\n",
        "            all_logits.append(outputs.cpu())\n",
        "\n",
        "    all_logits = torch.cat(all_logits)\n",
        "    torch.save(all_logits, \"teacher_logits.pt\")\n",
        "    print(\"✅ Logits salvati in teacher_logits.pt\")\n",
        "\n",
        "    wandb_run.finish()\n",
        "    return best_model, best_config"
      ],
      "metadata": {
        "id": "NF70Sp3LWtec"
      },
      "id": "NF70Sp3LWtec",
      "execution_count": null,
      "outputs": []
    },
    {
      "cell_type": "markdown",
      "source": [
        "#esecuzione esperimenti"
      ],
      "metadata": {
        "id": "fMI_OX5P8JAZ"
      },
      "id": "fMI_OX5P8JAZ"
    },
    {
      "cell_type": "code",
      "source": [
        "if __name__ == \"__main__\":\n",
        "    config_list = [\n",
        "        {\"num_filters\": [32, 64], \"dropout\": 0.2, \"epochs\": 50, \"learning_rate\": 0.001, \"weight_decay\": 1e-4},\n",
        "        {\"num_filters\": [32, 64, 128], \"dropout\": 0.3, \"epochs\": 50, \"learning_rate\": 0.001, \"weight_decay\": 1e-4},\n",
        "        {\"num_filters\": [64, 128], \"dropout\": 0.25, \"epochs\": 50, \"learning_rate\": 0.0005, \"weight_decay\": 5e-4}\n",
        "    ]\n",
        "\n",
        "    train_loader, val_loader, test_loader, mean, std = prepare_datasets(batch_size=128)\n",
        "    best_model, best_config = run_experiments(config_list, train_loader, val_loader, test_loader, mean, std)\n"
      ],
      "metadata": {
        "id": "-r42_6aY-J_B",
        "colab": {
          "base_uri": "https://localhost:8080/",
          "height": 1000
        },
        "outputId": "5614b43e-c008-46cb-cd1f-3e34d153799e",
        "collapsed": true
      },
      "id": "-r42_6aY-J_B",
      "execution_count": null,
      "outputs": [
        {
          "output_type": "stream",
          "name": "stderr",
          "text": [
            "100%|██████████| 170M/170M [00:03<00:00, 47.2MB/s]\n"
          ]
        },
        {
          "output_type": "stream",
          "name": "stdout",
          "text": [
            "\n",
            "🔧 Avvio esperimento con config: {'num_filters': [32, 64], 'dropout': 0.2, 'epochs': 50, 'learning_rate': 0.001, 'weight_decay': 0.0001}\n"
          ]
        },
        {
          "output_type": "display_data",
          "data": {
            "text/plain": [
              "<IPython.core.display.HTML object>"
            ],
            "text/html": [
              "Tracking run with wandb version 0.20.1"
            ]
          },
          "metadata": {}
        },
        {
          "output_type": "display_data",
          "data": {
            "text/plain": [
              "<IPython.core.display.HTML object>"
            ],
            "text/html": [
              "Run data is saved locally in <code>/content/wandb/run-20250623_104541-09ibbbhe</code>"
            ]
          },
          "metadata": {}
        },
        {
          "output_type": "display_data",
          "data": {
            "text/plain": [
              "<IPython.core.display.HTML object>"
            ],
            "text/html": [
              "Syncing run <strong><a href='https://wandb.ai/john17-universit-di-firenze/cnn/runs/09ibbbhe' target=\"_blank\">ancient-rain-24</a></strong> to <a href='https://wandb.ai/john17-universit-di-firenze/cnn' target=\"_blank\">Weights & Biases</a> (<a href='https://wandb.me/developer-guide' target=\"_blank\">docs</a>)<br>"
            ]
          },
          "metadata": {}
        },
        {
          "output_type": "display_data",
          "data": {
            "text/plain": [
              "<IPython.core.display.HTML object>"
            ],
            "text/html": [
              " View project at <a href='https://wandb.ai/john17-universit-di-firenze/cnn' target=\"_blank\">https://wandb.ai/john17-universit-di-firenze/cnn</a>"
            ]
          },
          "metadata": {}
        },
        {
          "output_type": "display_data",
          "data": {
            "text/plain": [
              "<IPython.core.display.HTML object>"
            ],
            "text/html": [
              " View run at <a href='https://wandb.ai/john17-universit-di-firenze/cnn/runs/09ibbbhe' target=\"_blank\">https://wandb.ai/john17-universit-di-firenze/cnn/runs/09ibbbhe</a>"
            ]
          },
          "metadata": {}
        },
        {
          "output_type": "stream",
          "name": "stderr",
          "text": []
        },
        {
          "output_type": "display_data",
          "data": {
            "text/plain": [
              "<IPython.core.display.HTML object>"
            ],
            "text/html": []
          },
          "metadata": {}
        },
        {
          "output_type": "display_data",
          "data": {
            "text/plain": [
              "<IPython.core.display.HTML object>"
            ],
            "text/html": [
              "<br>    <style><br>        .wandb-row {<br>            display: flex;<br>            flex-direction: row;<br>            flex-wrap: wrap;<br>            justify-content: flex-start;<br>            width: 100%;<br>        }<br>        .wandb-col {<br>            display: flex;<br>            flex-direction: column;<br>            flex-basis: 100%;<br>            flex: 1;<br>            padding: 10px;<br>        }<br>    </style><br><div class=\"wandb-row\"><div class=\"wandb-col\"><h3>Run history:</h3><br/><table class=\"wandb\"><tr><td>epoch</td><td>▁▁▁▂▂▂▂▂▂▃▃▃▃▃▃▄▄▄▄▄▅▅▅▅▅▆▆▆▆▆▆▇▇▇▇▇▇███</td></tr><tr><td>train_loss</td><td>█▆▅▅▄▄▄▃▃▃▃▃▃▂▂▂▂▂▂▂▂▂▂▂▂▂▂▂▁▁▁▁▁▁▁▁▁▁▁▁</td></tr><tr><td>val_accuracy</td><td>▁▂▃▄▄▅▅▆▆▅▆▆▆▆▇▆▆▇▇▇▇▇█▇▇█▇███▇█████████</td></tr><tr><td>val_loss</td><td>█▇▆▅▅▄▄▃▃▄▃▃▃▂▃▃▄▂▂▂▂▂▂▁▂▂▁▂▁▁▁▁▁▁▁▁▁▁▁▂</td></tr></table><br/></div><div class=\"wandb-col\"><h3>Run summary:</h3><br/><table class=\"wandb\"><tr><td>epoch</td><td>50</td></tr><tr><td>train_loss</td><td>0.72066</td></tr><tr><td>val_accuracy</td><td>0.7354</td></tr><tr><td>val_loss</td><td>0.76998</td></tr></table><br/></div></div>"
            ]
          },
          "metadata": {}
        },
        {
          "output_type": "display_data",
          "data": {
            "text/plain": [
              "<IPython.core.display.HTML object>"
            ],
            "text/html": [
              " View run <strong style=\"color:#cdcd00\">ancient-rain-24</strong> at: <a href='https://wandb.ai/john17-universit-di-firenze/cnn/runs/09ibbbhe' target=\"_blank\">https://wandb.ai/john17-universit-di-firenze/cnn/runs/09ibbbhe</a><br> View project at: <a href='https://wandb.ai/john17-universit-di-firenze/cnn' target=\"_blank\">https://wandb.ai/john17-universit-di-firenze/cnn</a><br>Synced 5 W&B file(s), 0 media file(s), 0 artifact file(s) and 0 other file(s)"
            ]
          },
          "metadata": {}
        },
        {
          "output_type": "display_data",
          "data": {
            "text/plain": [
              "<IPython.core.display.HTML object>"
            ],
            "text/html": [
              "Find logs at: <code>./wandb/run-20250623_104541-09ibbbhe/logs</code>"
            ]
          },
          "metadata": {}
        },
        {
          "output_type": "stream",
          "name": "stdout",
          "text": [
            "\n",
            "🔧 Avvio esperimento con config: {'num_filters': [32, 64, 128], 'dropout': 0.3, 'epochs': 50, 'learning_rate': 0.001, 'weight_decay': 0.0001}\n"
          ]
        },
        {
          "output_type": "display_data",
          "data": {
            "text/plain": [
              "<IPython.core.display.HTML object>"
            ],
            "text/html": [
              "Tracking run with wandb version 0.20.1"
            ]
          },
          "metadata": {}
        },
        {
          "output_type": "display_data",
          "data": {
            "text/plain": [
              "<IPython.core.display.HTML object>"
            ],
            "text/html": [
              "Run data is saved locally in <code>/content/wandb/run-20250623_110049-0mtmm2kw</code>"
            ]
          },
          "metadata": {}
        },
        {
          "output_type": "display_data",
          "data": {
            "text/plain": [
              "<IPython.core.display.HTML object>"
            ],
            "text/html": [
              "Syncing run <strong><a href='https://wandb.ai/john17-universit-di-firenze/cnn/runs/0mtmm2kw' target=\"_blank\">fresh-water-25</a></strong> to <a href='https://wandb.ai/john17-universit-di-firenze/cnn' target=\"_blank\">Weights & Biases</a> (<a href='https://wandb.me/developer-guide' target=\"_blank\">docs</a>)<br>"
            ]
          },
          "metadata": {}
        },
        {
          "output_type": "display_data",
          "data": {
            "text/plain": [
              "<IPython.core.display.HTML object>"
            ],
            "text/html": [
              " View project at <a href='https://wandb.ai/john17-universit-di-firenze/cnn' target=\"_blank\">https://wandb.ai/john17-universit-di-firenze/cnn</a>"
            ]
          },
          "metadata": {}
        },
        {
          "output_type": "display_data",
          "data": {
            "text/plain": [
              "<IPython.core.display.HTML object>"
            ],
            "text/html": [
              " View run at <a href='https://wandb.ai/john17-universit-di-firenze/cnn/runs/0mtmm2kw' target=\"_blank\">https://wandb.ai/john17-universit-di-firenze/cnn/runs/0mtmm2kw</a>"
            ]
          },
          "metadata": {}
        },
        {
          "output_type": "stream",
          "name": "stderr",
          "text": []
        },
        {
          "output_type": "display_data",
          "data": {
            "text/plain": [
              "<IPython.core.display.HTML object>"
            ],
            "text/html": []
          },
          "metadata": {}
        },
        {
          "output_type": "display_data",
          "data": {
            "text/plain": [
              "<IPython.core.display.HTML object>"
            ],
            "text/html": [
              "<br>    <style><br>        .wandb-row {<br>            display: flex;<br>            flex-direction: row;<br>            flex-wrap: wrap;<br>            justify-content: flex-start;<br>            width: 100%;<br>        }<br>        .wandb-col {<br>            display: flex;<br>            flex-direction: column;<br>            flex-basis: 100%;<br>            flex: 1;<br>            padding: 10px;<br>        }<br>    </style><br><div class=\"wandb-row\"><div class=\"wandb-col\"><h3>Run history:</h3><br/><table class=\"wandb\"><tr><td>epoch</td><td>▁▁▁▁▂▂▂▂▂▂▃▃▃▃▃▄▄▄▄▄▅▅▅▅▅▆▆▆▆▆▆▇▇▇▇▇▇███</td></tr><tr><td>train_loss</td><td>█▆▅▅▄▄▄▃▃▃▃▃▃▃▂▂▂▂▂▂▂▂▂▂▂▂▂▂▂▁▁▁▁▁▁▁▁▁▁▁</td></tr><tr><td>val_accuracy</td><td>▁▂▃▄▄▅▅▆▆▆▅▆▇▆▆▇▇▇▇▇▇▇▇██▇███████████▇██</td></tr><tr><td>val_loss</td><td>█▇▅▅▅▄▄▃▃▄▃▃▃▂▃▂▂▂▂▂▂▂▂▂▂▂▁▁▂▂▁▁▁▁▁▁▁▂▁▁</td></tr></table><br/></div><div class=\"wandb-col\"><h3>Run summary:</h3><br/><table class=\"wandb\"><tr><td>epoch</td><td>50</td></tr><tr><td>train_loss</td><td>0.49439</td></tr><tr><td>val_accuracy</td><td>0.8132</td></tr><tr><td>val_loss</td><td>0.55356</td></tr></table><br/></div></div>"
            ]
          },
          "metadata": {}
        },
        {
          "output_type": "display_data",
          "data": {
            "text/plain": [
              "<IPython.core.display.HTML object>"
            ],
            "text/html": [
              " View run <strong style=\"color:#cdcd00\">fresh-water-25</strong> at: <a href='https://wandb.ai/john17-universit-di-firenze/cnn/runs/0mtmm2kw' target=\"_blank\">https://wandb.ai/john17-universit-di-firenze/cnn/runs/0mtmm2kw</a><br> View project at: <a href='https://wandb.ai/john17-universit-di-firenze/cnn' target=\"_blank\">https://wandb.ai/john17-universit-di-firenze/cnn</a><br>Synced 5 W&B file(s), 0 media file(s), 0 artifact file(s) and 0 other file(s)"
            ]
          },
          "metadata": {}
        },
        {
          "output_type": "display_data",
          "data": {
            "text/plain": [
              "<IPython.core.display.HTML object>"
            ],
            "text/html": [
              "Find logs at: <code>./wandb/run-20250623_110049-0mtmm2kw/logs</code>"
            ]
          },
          "metadata": {}
        },
        {
          "output_type": "stream",
          "name": "stdout",
          "text": [
            "\n",
            "🔧 Avvio esperimento con config: {'num_filters': [64, 128], 'dropout': 0.25, 'epochs': 50, 'learning_rate': 0.0005, 'weight_decay': 0.0005}\n"
          ]
        },
        {
          "output_type": "display_data",
          "data": {
            "text/plain": [
              "<IPython.core.display.HTML object>"
            ],
            "text/html": [
              "Tracking run with wandb version 0.20.1"
            ]
          },
          "metadata": {}
        },
        {
          "output_type": "display_data",
          "data": {
            "text/plain": [
              "<IPython.core.display.HTML object>"
            ],
            "text/html": [
              "Run data is saved locally in <code>/content/wandb/run-20250623_111601-se8les7l</code>"
            ]
          },
          "metadata": {}
        },
        {
          "output_type": "display_data",
          "data": {
            "text/plain": [
              "<IPython.core.display.HTML object>"
            ],
            "text/html": [
              "Syncing run <strong><a href='https://wandb.ai/john17-universit-di-firenze/cnn/runs/se8les7l' target=\"_blank\">expert-vortex-26</a></strong> to <a href='https://wandb.ai/john17-universit-di-firenze/cnn' target=\"_blank\">Weights & Biases</a> (<a href='https://wandb.me/developer-guide' target=\"_blank\">docs</a>)<br>"
            ]
          },
          "metadata": {}
        },
        {
          "output_type": "display_data",
          "data": {
            "text/plain": [
              "<IPython.core.display.HTML object>"
            ],
            "text/html": [
              " View project at <a href='https://wandb.ai/john17-universit-di-firenze/cnn' target=\"_blank\">https://wandb.ai/john17-universit-di-firenze/cnn</a>"
            ]
          },
          "metadata": {}
        },
        {
          "output_type": "display_data",
          "data": {
            "text/plain": [
              "<IPython.core.display.HTML object>"
            ],
            "text/html": [
              " View run at <a href='https://wandb.ai/john17-universit-di-firenze/cnn/runs/se8les7l' target=\"_blank\">https://wandb.ai/john17-universit-di-firenze/cnn/runs/se8les7l</a>"
            ]
          },
          "metadata": {}
        },
        {
          "output_type": "stream",
          "name": "stderr",
          "text": []
        },
        {
          "output_type": "display_data",
          "data": {
            "text/plain": [
              "<IPython.core.display.HTML object>"
            ],
            "text/html": []
          },
          "metadata": {}
        },
        {
          "output_type": "display_data",
          "data": {
            "text/plain": [
              "<IPython.core.display.HTML object>"
            ],
            "text/html": [
              "<br>    <style><br>        .wandb-row {<br>            display: flex;<br>            flex-direction: row;<br>            flex-wrap: wrap;<br>            justify-content: flex-start;<br>            width: 100%;<br>        }<br>        .wandb-col {<br>            display: flex;<br>            flex-direction: column;<br>            flex-basis: 100%;<br>            flex: 1;<br>            padding: 10px;<br>        }<br>    </style><br><div class=\"wandb-row\"><div class=\"wandb-col\"><h3>Run history:</h3><br/><table class=\"wandb\"><tr><td>epoch</td><td>▁▁▁▁▂▂▂▂▂▂▃▃▃▃▃▄▄▄▄▄▄▅▅▅▅▅▅▆▆▆▆▆▇▇▇▇▇███</td></tr><tr><td>train_loss</td><td>█▆▅▄▄▄▃▃▃▃▃▃▃▂▂▂▂▂▂▂▂▂▂▂▂▂▂▂▁▁▁▁▁▁▁▁▁▁▁▁</td></tr><tr><td>val_accuracy</td><td>▁▃▄▄▄▅▅▆▆▆▆▆▇▆▆▆▆▇▇▇▇▇▇▇▇▇▇▆█▇▇▇▇█▇▇████</td></tr><tr><td>val_loss</td><td>█▆▅▄▄▄▄▃▃▃▃▃▂▃▃▃▂▂▂▂▂▂▂▂▂▂▃▁▂▂▂▂▁▂▁▁▁▁▁▁</td></tr></table><br/></div><div class=\"wandb-col\"><h3>Run summary:</h3><br/><table class=\"wandb\"><tr><td>epoch</td><td>50</td></tr><tr><td>train_loss</td><td>0.74187</td></tr><tr><td>val_accuracy</td><td>0.7428</td></tr><tr><td>val_loss</td><td>0.74446</td></tr></table><br/></div></div>"
            ]
          },
          "metadata": {}
        },
        {
          "output_type": "display_data",
          "data": {
            "text/plain": [
              "<IPython.core.display.HTML object>"
            ],
            "text/html": [
              " View run <strong style=\"color:#cdcd00\">expert-vortex-26</strong> at: <a href='https://wandb.ai/john17-universit-di-firenze/cnn/runs/se8les7l' target=\"_blank\">https://wandb.ai/john17-universit-di-firenze/cnn/runs/se8les7l</a><br> View project at: <a href='https://wandb.ai/john17-universit-di-firenze/cnn' target=\"_blank\">https://wandb.ai/john17-universit-di-firenze/cnn</a><br>Synced 5 W&B file(s), 0 media file(s), 0 artifact file(s) and 0 other file(s)"
            ]
          },
          "metadata": {}
        },
        {
          "output_type": "display_data",
          "data": {
            "text/plain": [
              "<IPython.core.display.HTML object>"
            ],
            "text/html": [
              "Find logs at: <code>./wandb/run-20250623_111601-se8les7l/logs</code>"
            ]
          },
          "metadata": {}
        },
        {
          "output_type": "stream",
          "name": "stdout",
          "text": [
            "✅ Modello migliore salvato in best_model.pt\n"
          ]
        },
        {
          "output_type": "stream",
          "name": "stderr",
          "text": [
            "Salvataggio logits: 100%|██████████| 352/352 [00:15<00:00, 22.72it/s]\n"
          ]
        },
        {
          "output_type": "display_data",
          "data": {
            "text/plain": [
              "<IPython.core.display.HTML object>"
            ],
            "text/html": [
              "Tracking run with wandb version 0.20.1"
            ]
          },
          "metadata": {}
        },
        {
          "output_type": "display_data",
          "data": {
            "text/plain": [
              "<IPython.core.display.HTML object>"
            ],
            "text/html": [
              "Run data is saved locally in <code>/content/wandb/run-20250623_113218-ixhva41q</code>"
            ]
          },
          "metadata": {}
        },
        {
          "output_type": "display_data",
          "data": {
            "text/plain": [
              "<IPython.core.display.HTML object>"
            ],
            "text/html": [
              "Syncing run <strong><a href='https://wandb.ai/john17-universit-di-firenze/cnn_cifar10_improved/runs/ixhva41q' target=\"_blank\">dauntless-galaxy-8</a></strong> to <a href='https://wandb.ai/john17-universit-di-firenze/cnn_cifar10_improved' target=\"_blank\">Weights & Biases</a> (<a href='https://wandb.me/developer-guide' target=\"_blank\">docs</a>)<br>"
            ]
          },
          "metadata": {}
        },
        {
          "output_type": "display_data",
          "data": {
            "text/plain": [
              "<IPython.core.display.HTML object>"
            ],
            "text/html": [
              " View project at <a href='https://wandb.ai/john17-universit-di-firenze/cnn_cifar10_improved' target=\"_blank\">https://wandb.ai/john17-universit-di-firenze/cnn_cifar10_improved</a>"
            ]
          },
          "metadata": {}
        },
        {
          "output_type": "display_data",
          "data": {
            "text/plain": [
              "<IPython.core.display.HTML object>"
            ],
            "text/html": [
              " View run at <a href='https://wandb.ai/john17-universit-di-firenze/cnn_cifar10_improved/runs/ixhva41q' target=\"_blank\">https://wandb.ai/john17-universit-di-firenze/cnn_cifar10_improved/runs/ixhva41q</a>"
            ]
          },
          "metadata": {}
        },
        {
          "output_type": "stream",
          "name": "stderr",
          "text": [
            "Evaluating: 100%|██████████| 79/79 [00:02<00:00, 36.34it/s]\n"
          ]
        },
        {
          "output_type": "stream",
          "name": "stdout",
          "text": [
            "Test Accuracy del modello migliore: 0.8230\n",
            "Classification Report:\n",
            "               precision    recall  f1-score   support\n",
            "\n",
            "           0      0.731     0.901     0.807      1000\n",
            "           1      0.900     0.927     0.913      1000\n",
            "           2      0.798     0.728     0.762      1000\n",
            "           3      0.706     0.660     0.682      1000\n",
            "           4      0.814     0.808     0.811      1000\n",
            "           5      0.736     0.802     0.768      1000\n",
            "           6      0.925     0.809     0.863      1000\n",
            "           7      0.857     0.873     0.865      1000\n",
            "           8      0.953     0.812     0.877      1000\n",
            "           9      0.857     0.910     0.883      1000\n",
            "\n",
            "    accuracy                          0.823     10000\n",
            "   macro avg      0.828     0.823     0.823     10000\n",
            "weighted avg      0.828     0.823     0.823     10000\n",
            "\n"
          ]
        },
        {
          "output_type": "stream",
          "name": "stderr",
          "text": [
            "Teacher forward pass: 100%|██████████| 352/352 [00:14<00:00, 23.68it/s]"
          ]
        },
        {
          "output_type": "stream",
          "name": "stdout",
          "text": [
            "✅ Logits salvati in teacher_logits.pt\n"
          ]
        },
        {
          "output_type": "stream",
          "name": "stderr",
          "text": [
            "\n"
          ]
        },
        {
          "output_type": "display_data",
          "data": {
            "text/plain": [
              "<IPython.core.display.HTML object>"
            ],
            "text/html": []
          },
          "metadata": {}
        },
        {
          "output_type": "display_data",
          "data": {
            "text/plain": [
              "<IPython.core.display.HTML object>"
            ],
            "text/html": [
              "<br>    <style><br>        .wandb-row {<br>            display: flex;<br>            flex-direction: row;<br>            flex-wrap: wrap;<br>            justify-content: flex-start;<br>            width: 100%;<br>        }<br>        .wandb-col {<br>            display: flex;<br>            flex-direction: column;<br>            flex-basis: 100%;<br>            flex: 1;<br>            padding: 10px;<br>        }<br>    </style><br><div class=\"wandb-row\"><div class=\"wandb-col\"><h3>Run history:</h3><br/><table class=\"wandb\"><tr><td>test_accuracy</td><td>▁</td></tr></table><br/></div><div class=\"wandb-col\"><h3>Run summary:</h3><br/><table class=\"wandb\"><tr><td>classification_report_text</td><td>              precis...</td></tr><tr><td>test_accuracy</td><td>0.823</td></tr></table><br/></div></div>"
            ]
          },
          "metadata": {}
        },
        {
          "output_type": "display_data",
          "data": {
            "text/plain": [
              "<IPython.core.display.HTML object>"
            ],
            "text/html": [
              " View run <strong style=\"color:#cdcd00\">dauntless-galaxy-8</strong> at: <a href='https://wandb.ai/john17-universit-di-firenze/cnn_cifar10_improved/runs/ixhva41q' target=\"_blank\">https://wandb.ai/john17-universit-di-firenze/cnn_cifar10_improved/runs/ixhva41q</a><br> View project at: <a href='https://wandb.ai/john17-universit-di-firenze/cnn_cifar10_improved' target=\"_blank\">https://wandb.ai/john17-universit-di-firenze/cnn_cifar10_improved</a><br>Synced 5 W&B file(s), 1 media file(s), 2 artifact file(s) and 0 other file(s)"
            ]
          },
          "metadata": {}
        },
        {
          "output_type": "display_data",
          "data": {
            "text/plain": [
              "<IPython.core.display.HTML object>"
            ],
            "text/html": [
              "Find logs at: <code>./wandb/run-20250623_113218-ixhva41q/logs</code>"
            ]
          },
          "metadata": {}
        }
      ]
    },
    {
      "cell_type": "markdown",
      "source": [
        "#salviamo risultati in drive"
      ],
      "metadata": {
        "id": "SqKMbM_xMDst"
      },
      "id": "SqKMbM_xMDst"
    },
    {
      "cell_type": "code",
      "source": [
        "from google.colab import drive\n",
        "drive.mount('/content/drive')\n",
        "\n",
        "!cp best_model.pt /content/drive/MyDrive/\n",
        "!cp logits.npy /content/drive/MyDrive/\n",
        "!cp labels.npy /content/drive/MyDrive/\n"
      ],
      "metadata": {
        "colab": {
          "base_uri": "https://localhost:8080/"
        },
        "id": "aoRRHDeiMFyx",
        "outputId": "c7fe43ac-ee1a-4503-9dc5-90c3e0c4623f",
        "collapsed": true
      },
      "id": "aoRRHDeiMFyx",
      "execution_count": null,
      "outputs": [
        {
          "output_type": "stream",
          "name": "stdout",
          "text": [
            "Drive already mounted at /content/drive; to attempt to forcibly remount, call drive.mount(\"/content/drive\", force_remount=True).\n",
            "cp: cannot stat 'best_model.pt': No such file or directory\n",
            "cp: cannot stat 'logits.npy': No such file or directory\n",
            "cp: cannot stat 'labels.npy': No such file or directory\n"
          ]
        }
      ]
    },
    {
      "cell_type": "markdown",
      "id": "ef4de2f2-abc5-4f98-9eaf-3497f734a022",
      "metadata": {
        "id": "ef4de2f2-abc5-4f98-9eaf-3497f734a022"
      },
      "source": [
        "-----\n",
        "## Exercise 2: Choose at Least One\n",
        "\n",
        "Below are **three** exercises that ask you to deepen your understanding of Deep Networks for visual recognition. You must choose **at least one** of the below for your final submission -- feel free to do **more**, but at least **ONE** you must submit. Each exercise is designed to require you to dig your hands **deep** into the guts of your models in order to do new and interesting things.\n",
        "\n",
        "**Note**: These exercises are designed to use your small, custom CNNs and small datasets. This is to keep training times reasonable. If you have a decent GPU, feel free to use pretrained ResNets and larger datasets (e.g. the [Imagenette](https://pytorch.org/vision/0.20/generated/torchvision.datasets.Imagenette.html#torchvision.datasets.Imagenette) dataset at 160px)."
      ]
    },
    {
      "cell_type": "markdown",
      "source": [
        "Exercise 2.1: Fine-tune a pre-trained model\n",
        "Train one of your residual CNN models from Exercise 1.3 on CIFAR-10. Then:\n",
        "\n",
        "Use the pre-trained model as a feature extractor (i.e. to extract the feature activations of the layer input into the classifier) on CIFAR-100. Use a classical approach (e.g. Linear SVM, K-Nearest Neighbor, or Bayesian Generative Classifier) from scikit-learn to establish a stable baseline performance on CIFAR-100 using the features extracted using your CNN.\n",
        "Fine-tune your CNN on the CIFAR-100 training set and compare with your stable baseline. Experiment with different strategies:\n",
        "Unfreeze some of the earlier layers for fine-tuning.\n",
        "Test different optimizers (Adam, SGD, etc.).\n",
        "Each of these steps will require you to modify your model definition in some way. For 1, you will need to return the activations of the last fully-connected layer (or the global average pooling layer). For 2, you will need to replace the original, 10-class classifier with a new, randomly-initialized 100-class classifier."
      ],
      "metadata": {
        "id": "MjQ-Bu0uxQNi"
      },
      "id": "MjQ-Bu0uxQNi"
    },
    {
      "cell_type": "markdown",
      "source": [
        "#caricamento CIFAR-100"
      ],
      "metadata": {
        "id": "DiR3BAq-D2Uw"
      },
      "id": "DiR3BAq-D2Uw"
    },
    {
      "cell_type": "code",
      "source": [
        "# Carica il modello teacher (addestrato su CIFAR-10)\n",
        "device = torch.device('cuda' if torch.cuda.is_available() else 'cpu') # Definisci il device qui\n",
        "# Usa la configurazione migliore identificata (num_filters=[32, 64, 128], dropout_prob=0.3)\n",
        "teacher_model = FlexibleCNN(num_filters=[32, 64, 128], dropout_prob=0.3)#miglior configurazione\n",
        "teacher_model.load_state_dict(torch.load(\"/content/drive/MyDrive/best_model.pt\", map_location=device))\n",
        "teacher_model.eval()\n",
        "teacher_model.to(device)\n",
        "\n",
        "\n",
        "# Calcola i logits del teacher su CIFAR-100\n",
        "def get_teacher_logits(model, dataloader, device):\n",
        "    model.eval()\n",
        "    logits = []\n",
        "    labels = []\n",
        "    with torch.no_grad():\n",
        "        for x, y in tqdm(dataloader, desc=\"Teacher logits (CIFAR-100)\"):\n",
        "            x = x.to(device)\n",
        "            out = model(x)\n",
        "            logits.append(out.cpu())\n",
        "            labels.append(y)\n",
        "    return torch.cat(logits), torch.cat(labels)\n",
        "\n",
        "# Verifica che cifar100_train_loader sia definito prima di usarlo\n",
        "if 'cifar100_train_loader' in globals():\n",
        "    teacher_logits_100, teacher_labels_100 = get_teacher_logits(teacher_model, cifar100_train_loader, device)\n",
        "\n",
        "    # Salva su drive\n",
        "    np.save(\"/content/drive/MyDrive/teacher_logits_cifar100.npy\", teacher_logits_100.numpy())\n",
        "    np.save(\"/content/drive/MyDrive/teacher_labels_cifar100.npy\", teacher_labels_100.numpy())\n",
        "    print(\"✅ Logits e labels del teacher su CIFAR-100 salvati.\")\n",
        "else:\n",
        "    print(\"Errore: cifar100_train_loader non è definito. Assicurati che la cella che carica CIFAR-100 sia stata eseguita con successo.\")"
      ],
      "metadata": {
        "id": "HCaC7SNJEUEd",
        "colab": {
          "base_uri": "https://localhost:8080/"
        },
        "outputId": "2ffd3a9a-019e-470d-f66c-8d2e830d60ce"
      },
      "id": "HCaC7SNJEUEd",
      "execution_count": null,
      "outputs": [
        {
          "output_type": "stream",
          "name": "stderr",
          "text": [
            "Teacher logits (CIFAR-100): 100%|██████████| 391/391 [00:13<00:00, 29.13it/s]"
          ]
        },
        {
          "output_type": "stream",
          "name": "stdout",
          "text": [
            "✅ Logits e labels del teacher su CIFAR-100 salvati.\n"
          ]
        },
        {
          "output_type": "stream",
          "name": "stderr",
          "text": [
            "\n"
          ]
        }
      ]
    },
    {
      "cell_type": "markdown",
      "source": [
        "#CNN distillation pipeline"
      ],
      "metadata": {
        "id": "oydkHO7eEVze"
      },
      "id": "oydkHO7eEVze"
    },
    {
      "cell_type": "code",
      "source": [
        "# 📤 2. Estrazione delle feature dal modello pre-addestrato\n",
        "\n",
        "\n",
        "# Definizione manuale della best_config per evitare di rieseguire l'addestramento completo\n",
        "# Questa configurazione è stata identificata come la migliore nell'esecuzione precedente della cella -r42_6aY-J_B\n",
        "best_config = {\"num_filters\": [32, 64, 128], \"dropout\": 0.3, \"epochs\": 50, \"learning_rate\": 0.001, \"weight_decay\": 1e-4}\n",
        "print(f\"best_config definita manualmente: {best_config}\")\n",
        "\n",
        "def extract_features(model, dataloader, device):\n",
        "    model.eval()\n",
        "    model.to(device)\n",
        "    features = []\n",
        "    labels = []\n",
        "\n",
        "    with torch.no_grad():\n",
        "        for x, y in tqdm(dataloader, desc=\"Estrazione feature\"):\n",
        "            x = x.to(device)\n",
        "            # Estrarre le attivazioni prima dell'ultimo layer FC\n",
        "            for block in model.conv_blocks:\n",
        "                x = block(x)\n",
        "            x = x.view(x.size(0), -1)\n",
        "            x = F.relu(model.fc1(x))  # opzionalmente aggiungere dropout\n",
        "            features.append(x.cpu())\n",
        "            labels.append(y)\n",
        "\n",
        "    features = torch.cat(features).numpy()\n",
        "    labels = torch.cat(labels).numpy()\n",
        "    return features, labels\n",
        "\n",
        "\n",
        "# --- 🔁 Uso pratico con best_config ---\n",
        "device = torch.device(\"cuda\" if torch.cuda.is_available() else \"cpu\")\n",
        "\n",
        "# Ricostruzione del modello migliore con iperparametri salvati\n",
        "# Assicurati che best_config sia definito eseguendo la cella degli esperimenti (-r42_6aY-J_B)\n",
        "if 'best_config' not in globals():\n",
        "    print(\"Errore: best_config non è definito. Assicurati di aver eseguito la cella degli esperimenti (-r42_6aY-J_B) prima di questa.\")\n",
        "else:\n",
        "    best_model = FlexibleCNN(\n",
        "        num_filters=best_config[\"num_filters\"],\n",
        "        dropout_prob=best_config[\"dropout\"]\n",
        "    )\n",
        "    best_model.load_state_dict(torch.load(\"/content/drive/MyDrive/best_model.pt\", map_location=device))\n",
        "\n",
        "    # Estrazione feature su CIFAR-100\n",
        "    # Assicurati che cifar100_train_loader e cifar100_test_loader siano stati definiti prima\n",
        "    if 'cifar100_train_loader' in globals() and 'cifar100_test_loader' in globals():\n",
        "        train_feats, train_labels = extract_features(best_model, cifar100_train_loader, device)\n",
        "        test_feats, test_labels = extract_features(best_model, cifar100_test_loader, device)\n",
        "\n",
        "        print(\"✅ Feature estratte con successo da CIFAR-100.\")\n",
        "    else:\n",
        "        print(\"Errore: cifar100_train_loader o cifar100_test_loader non sono definiti. Assicurati che la cella che carica CIFAR-100 sia stata eseguita con successo.\")"
      ],
      "metadata": {
        "id": "cT9IgpgpEpoj",
        "colab": {
          "base_uri": "https://localhost:8080/"
        },
        "outputId": "fc949c9c-6c36-4e4d-972c-0a642943d589"
      },
      "id": "cT9IgpgpEpoj",
      "execution_count": null,
      "outputs": [
        {
          "output_type": "stream",
          "name": "stdout",
          "text": [
            "best_config definita manualmente: {'num_filters': [32, 64, 128], 'dropout': 0.3, 'epochs': 50, 'learning_rate': 0.001, 'weight_decay': 0.0001}\n"
          ]
        },
        {
          "output_type": "stream",
          "name": "stderr",
          "text": [
            "Estrazione feature: 100%|██████████| 391/391 [00:14<00:00, 26.18it/s]\n",
            "Estrazione feature: 100%|██████████| 79/79 [00:02<00:00, 38.23it/s]"
          ]
        },
        {
          "output_type": "stream",
          "name": "stdout",
          "text": [
            "✅ Feature estratte con successo da CIFAR-100.\n"
          ]
        },
        {
          "output_type": "stream",
          "name": "stderr",
          "text": [
            "\n"
          ]
        }
      ]
    },
    {
      "cell_type": "markdown",
      "source": [
        "#addestro classificatore classico su features estratte"
      ],
      "metadata": {
        "id": "qq5nd5I-FuqQ"
      },
      "id": "qq5nd5I-FuqQ"
    },
    {
      "cell_type": "code",
      "source": [
        "# 🧪 3. Addestramento di un classificatore classico su feature estratte\n",
        "\n",
        "from sklearn.svm import SVC\n",
        "from sklearn.neighbors import KNeighborsClassifier\n",
        "from sklearn.metrics import accuracy_score\n",
        "\n",
        "# Scegli il classificatore\n",
        "# clf = KNeighborsClassifier(n_neighbors=5)\n",
        "clf = SVC(kernel='linear', C=1.0)\n",
        "\n",
        "print(\"Inizio addestramento del classificatore classico (SVM)...\")\n",
        "# Addestra sull'insieme di training\n",
        "clf.fit(train_feats, train_labels)\n",
        "print(\"Addestramento completato.\")\n",
        "\n",
        "print(\"Inizio predizione sul test set...\")\n",
        "# Predici sul test set\n",
        "preds = clf.predict(test_feats)\n",
        "print(\"Predizione completata.\")\n",
        "\n",
        "# Valuta le prestazioni\n",
        "acc = accuracy_score(test_labels, preds)\n",
        "print(f\"✅ Accuracy SVM su CIFAR-100: {acc:.4f}\")"
      ],
      "metadata": {
        "id": "iEyKS_6sFyrx",
        "colab": {
          "base_uri": "https://localhost:8080/"
        },
        "outputId": "8bf33656-e5ef-4ea9-a085-971589485ecd"
      },
      "id": "iEyKS_6sFyrx",
      "execution_count": null,
      "outputs": [
        {
          "output_type": "stream",
          "name": "stdout",
          "text": [
            "Inizio addestramento del classificatore classico (SVM)...\n",
            "Addestramento completato.\n",
            "Inizio predizione sul test set...\n",
            "Predizione completata.\n",
            "✅ Accuracy SVM su CIFAR-100: 0.2307\n"
          ]
        }
      ]
    },
    {
      "cell_type": "markdown",
      "source": [
        "#finetuning modello su cifar-100"
      ],
      "metadata": {
        "id": "RTgBgI65Fztf"
      },
      "id": "RTgBgI65Fztf"
    },
    {
      "cell_type": "code",
      "source": [
        "# 🔧 4. Fine-tuning del modello su CIFAR-100\n",
        "\n",
        "def fine_tune_model_on_cifar100(pretrained_model, num_classes=100, unfreeze_from=None):\n",
        "    # Clona il modello e sostituisce il classificatore finale\n",
        "    model = copy.deepcopy(pretrained_model)\n",
        "    model.fc2 = nn.Linear(model.fc2.in_features, num_classes)\n",
        "\n",
        "    # Congela tutti i parametri se non specificato diversamente\n",
        "    for param in model.parameters():\n",
        "        param.requires_grad = False\n",
        "\n",
        "    # Sblocca dalla layer specificata in poi (es. conv_blocks[-1] o conv_blocks[-2:])\n",
        "    if unfreeze_from is not None:\n",
        "        for block in model.conv_blocks[unfreeze_from:]:\n",
        "            for param in block.parameters():\n",
        "                param.requires_grad = True\n",
        "\n",
        "    # Sblocca anche la parte finale FC\n",
        "    for param in model.fc1.parameters():\n",
        "        param.requires_grad = True\n",
        "    for param in model.fc2.parameters():\n",
        "        param.requires_grad = True\n",
        "\n",
        "    return model\n"
      ],
      "metadata": {
        "id": "5cuDJt2QGC4S"
      },
      "id": "5cuDJt2QGC4S",
      "execution_count": null,
      "outputs": []
    },
    {
      "cell_type": "markdown",
      "source": [
        "#adestramento finale del modello fine-tunato su cifar-100"
      ],
      "metadata": {
        "id": "rM8wOb7JGD7w"
      },
      "id": "rM8wOb7JGD7w"
    },
    {
      "cell_type": "code",
      "source": [
        "\n",
        "# 📈 5. Addestramento finale del modello fine-tuned su CIFAR-100\n",
        "\n",
        "# Esempio di configurazione per fine-tuning\n",
        "finetune_config = {\n",
        "    \"num_filters\": best_config[\"num_filters\"],\n",
        "    \"dropout\": best_config[\"dropout\"],\n",
        "    \"epochs\": 50,\n",
        "    \"learning_rate\": 1e-4,\n",
        "    \"weight_decay\": 1e-4\n",
        "}\n",
        "\n",
        "# Ricrea il modello fine-tuned\n",
        "model_ft = fine_tune_model_on_cifar100(best_model, num_classes=100, unfreeze_from=-1)\n",
        "\n",
        "# Addestra il modello con la funzione già definita\n",
        "model_ft, final_acc = train_model_with_config(\n",
        "    config=finetune_config,\n",
        "    model=model_ft,\n",
        "    train_loader=cifar100_train_loader,\n",
        "    val_loader=cifar100_test_loader,\n",
        "    project_name=\"cnn_cifar100_finetuned\",\n",
        "    entity_name=\"john17-universit-di-firenze\"\n",
        ")\n",
        "\n",
        "print(f\"✅ Fine-tuning completato. Accuracy finale su CIFAR-100: {final_acc:.4f}\")\n"
      ],
      "metadata": {
        "id": "-PpgxhLcGbLL",
        "colab": {
          "base_uri": "https://localhost:8080/",
          "height": 551
        },
        "outputId": "0ad60cf4-be54-406d-b0f2-d7895070d662"
      },
      "id": "-PpgxhLcGbLL",
      "execution_count": null,
      "outputs": [
        {
          "output_type": "display_data",
          "data": {
            "text/plain": [
              "<IPython.core.display.HTML object>"
            ],
            "text/html": [
              "Tracking run with wandb version 0.20.1"
            ]
          },
          "metadata": {}
        },
        {
          "output_type": "display_data",
          "data": {
            "text/plain": [
              "<IPython.core.display.HTML object>"
            ],
            "text/html": [
              "Run data is saved locally in <code>/content/wandb/run-20250625_151222-x9yl9cdb</code>"
            ]
          },
          "metadata": {}
        },
        {
          "output_type": "display_data",
          "data": {
            "text/plain": [
              "<IPython.core.display.HTML object>"
            ],
            "text/html": [
              "Syncing run <strong><a href='https://wandb.ai/john17-universit-di-firenze/cnn_cifar100_finetuned/runs/x9yl9cdb' target=\"_blank\">lunar-smoke-1</a></strong> to <a href='https://wandb.ai/john17-universit-di-firenze/cnn_cifar100_finetuned' target=\"_blank\">Weights & Biases</a> (<a href='https://wandb.me/developer-guide' target=\"_blank\">docs</a>)<br>"
            ]
          },
          "metadata": {}
        },
        {
          "output_type": "display_data",
          "data": {
            "text/plain": [
              "<IPython.core.display.HTML object>"
            ],
            "text/html": [
              " View project at <a href='https://wandb.ai/john17-universit-di-firenze/cnn_cifar100_finetuned' target=\"_blank\">https://wandb.ai/john17-universit-di-firenze/cnn_cifar100_finetuned</a>"
            ]
          },
          "metadata": {}
        },
        {
          "output_type": "display_data",
          "data": {
            "text/plain": [
              "<IPython.core.display.HTML object>"
            ],
            "text/html": [
              " View run at <a href='https://wandb.ai/john17-universit-di-firenze/cnn_cifar100_finetuned/runs/x9yl9cdb' target=\"_blank\">https://wandb.ai/john17-universit-di-firenze/cnn_cifar100_finetuned/runs/x9yl9cdb</a>"
            ]
          },
          "metadata": {}
        },
        {
          "output_type": "stream",
          "name": "stderr",
          "text": []
        },
        {
          "output_type": "display_data",
          "data": {
            "text/plain": [
              "<IPython.core.display.HTML object>"
            ],
            "text/html": []
          },
          "metadata": {}
        },
        {
          "output_type": "display_data",
          "data": {
            "text/plain": [
              "<IPython.core.display.HTML object>"
            ],
            "text/html": [
              "<br>    <style><br>        .wandb-row {<br>            display: flex;<br>            flex-direction: row;<br>            flex-wrap: wrap;<br>            justify-content: flex-start;<br>            width: 100%;<br>        }<br>        .wandb-col {<br>            display: flex;<br>            flex-direction: column;<br>            flex-basis: 100%;<br>            flex: 1;<br>            padding: 10px;<br>        }<br>    </style><br><div class=\"wandb-row\"><div class=\"wandb-col\"><h3>Run history:</h3><br/><table class=\"wandb\"><tr><td>epoch</td><td>▁▁▁▁▂▂▂▂▂▂▃▃▃▃▃▄▄▄▄▄▅▅▅▅▅▅▆▆▆▆▆▆▇▇▇▇▇███</td></tr><tr><td>train_loss</td><td>█▆▅▅▄▄▄▃▃▃▃▃▃▃▃▂▂▂▂▂▂▂▂▂▂▂▂▂▂▂▁▁▁▁▁▁▁▁▁▁</td></tr><tr><td>val_accuracy</td><td>▁▃▄▅▆▆▆▇▇▇▇▇▇▇▇█████████████████████████</td></tr><tr><td>val_loss</td><td>█▆▄▄▃▃▂▂▂▂▂▂▂▂▁▁▁▁▁▁▁▁▁▁▁▁▁▁▁▁▁▁▁▁▁▁▁▁▁▁</td></tr></table><br/></div><div class=\"wandb-col\"><h3>Run summary:</h3><br/><table class=\"wandb\"><tr><td>epoch</td><td>50</td></tr><tr><td>train_loss</td><td>1.27957</td></tr><tr><td>val_accuracy</td><td>0.5167</td></tr><tr><td>val_loss</td><td>1.80684</td></tr></table><br/></div></div>"
            ]
          },
          "metadata": {}
        },
        {
          "output_type": "display_data",
          "data": {
            "text/plain": [
              "<IPython.core.display.HTML object>"
            ],
            "text/html": [
              " View run <strong style=\"color:#cdcd00\">lunar-smoke-1</strong> at: <a href='https://wandb.ai/john17-universit-di-firenze/cnn_cifar100_finetuned/runs/x9yl9cdb' target=\"_blank\">https://wandb.ai/john17-universit-di-firenze/cnn_cifar100_finetuned/runs/x9yl9cdb</a><br> View project at: <a href='https://wandb.ai/john17-universit-di-firenze/cnn_cifar100_finetuned' target=\"_blank\">https://wandb.ai/john17-universit-di-firenze/cnn_cifar100_finetuned</a><br>Synced 5 W&B file(s), 0 media file(s), 0 artifact file(s) and 0 other file(s)"
            ]
          },
          "metadata": {}
        },
        {
          "output_type": "display_data",
          "data": {
            "text/plain": [
              "<IPython.core.display.HTML object>"
            ],
            "text/html": [
              "Find logs at: <code>./wandb/run-20250625_151222-x9yl9cdb/logs</code>"
            ]
          },
          "metadata": {}
        },
        {
          "output_type": "stream",
          "name": "stdout",
          "text": [
            "✅ Fine-tuning completato. Accuracy finale su CIFAR-100: 0.5167\n"
          ]
        }
      ]
    },
    {
      "cell_type": "markdown",
      "source": [
        "#confronto grafico: classificatore vs modello fine-tunato"
      ],
      "metadata": {
        "id": "Adt6rlbOGoTd"
      },
      "id": "Adt6rlbOGoTd"
    },
    {
      "cell_type": "code",
      "source": [
        " #📊 6. Confronto grafico: Classificatore classico vs Fine-tuned\n",
        "\n",
        "import matplotlib.pyplot as plt\n",
        "\n",
        "# Supponiamo che acc sia la accuracy dello SVM e final_acc quella del fine-tuning\n",
        "model_names = [\"SVM (feature extractor)\", \"Fine-tuned CNN\"]\n",
        "accuracies = [acc, final_acc]\n",
        "\n",
        "plt.figure(figsize=(6, 4))\n",
        "plt.bar(model_names, accuracies, color=[\"gray\", \"steelblue\"])\n",
        "plt.ylim(0, 1)\n",
        "plt.ylabel(\"Accuracy su CIFAR-100\")\n",
        "plt.title(\"Confronto: Classificatore Classico vs Fine-Tuning\")\n",
        "plt.grid(axis='y')\n",
        "plt.show()\n"
      ],
      "metadata": {
        "id": "XIlryOL3Gtyb",
        "colab": {
          "base_uri": "https://localhost:8080/",
          "height": 391
        },
        "outputId": "0c2c8083-f83a-4fb6-fd7d-be3246030778"
      },
      "id": "XIlryOL3Gtyb",
      "execution_count": null,
      "outputs": [
        {
          "output_type": "display_data",
          "data": {
            "text/plain": [
              "<Figure size 600x400 with 1 Axes>"
            ],
            "image/png": "[encoded data removed]"
          },
          "metadata": {}
        }
      ]
    },
    {
      "cell_type": "markdown",
      "source": [],
      "metadata": {
        "id": "Xt6EXjeQEq6i"
      },
      "id": "Xt6EXjeQEq6i"
    },
    {
      "cell_type": "markdown",
      "id": "07978e8e-9f2e-4949-9699-495af6cb6349",
      "metadata": {
        "id": "07978e8e-9f2e-4949-9699-495af6cb6349"
      },
      "source": [
        "### Exercise 2.1: *Fine-tune* a pre-trained model\n",
        "Train one of your residual CNN models from Exercise 1.3 on CIFAR-10. Then:\n",
        "1. Use the pre-trained model as a **feature extractor** (i.e. to extract the feature activations of the layer input into the classifier) on CIFAR-100. Use a **classical** approach (e.g. Linear SVM, K-Nearest Neighbor, or Bayesian Generative Classifier) from scikit-learn to establish a **stable baseline** performance on CIFAR-100 using the features extracted using your CNN.\n",
        "2. Fine-tune your CNN on the CIFAR-100 training set and compare with your stable baseline. Experiment with different strategies:\n",
        "    - Unfreeze some of the earlier layers for fine-tuning.\n",
        "    - Test different optimizers (Adam, SGD, etc.).\n",
        "\n",
        "Each of these steps will require you to modify your model definition in some way. For 1, you will need to return the activations of the last fully-connected layer (or the global average pooling layer). For 2, you will need to replace the original, 10-class classifier with a new, randomly-initialized 100-class classifier."
      ]
    },
    {
      "cell_type": "markdown",
      "source": [],
      "metadata": {
        "id": "O-AC8MbrDc9j"
      },
      "id": "O-AC8MbrDc9j"
    },
    {
      "cell_type": "code",
      "source": [
        "# Questo codice è stato spostato nella cella 3c8baa0e-b17f-4a77-8a88-dadfdc6763ea\n",
        "# per garantire che mean e std siano definiti prima del caricamento di CIFAR-100.\n",
        "\n",
        "# 📦 1. Caricamento CIFAR-100 e Preprocessing (SPOSTATO)\n",
        "\n",
        "# CIFAR-100 usa le stesse statistiche di normalizzazione calcolate su CIFAR-10\n",
        "# transform_cifar100 = transforms.Compose([\n",
        "#     transforms.ToTensor(),\n",
        "#     transforms.Normalize(mean, std)\n",
        "# ])\n",
        "\n",
        "# Dataset completo CIFAR-100\n",
        "# cifar100_train = datasets.CIFAR100(root='./data', train=True, download=True, transform=transform_cifar100)\n",
        "# cifar100_test = datasets.CIFAR100(root='./data', train=False, download=True, transform=transform_cifar100)\n",
        "\n",
        "# Dataloader (batch size piccolo perché usiamo solo per estrarre feature)\n",
        "# cifar100_train_loader = torch.utils.data.DataLoader(cifar100_train, batch_size=128, shuffle=False, num_workers=2)\n",
        "# cifar100_test_loader = torch.utils.data.DataLoader(cifar100_test, batch_size=128, shuffle=False, num_workers=2)\n",
        "\n",
        "# print(\"✅ CIFAR-100 caricato con successo.\")\n",
        "\n",
        "# Aggiunto un placeholder o una nota\n",
        "print(\"Il codice di caricamento di CIFAR-100 è stato spostato nella cella precedente (quella che calcola mean e std).\")"
      ],
      "metadata": {
        "id": "1dt3eBoFDbKE",
        "colab": {
          "base_uri": "https://localhost:8080/"
        },
        "outputId": "00533cf6-2736-4a9c-910e-ebee967a2a47"
      },
      "id": "1dt3eBoFDbKE",
      "execution_count": null,
      "outputs": [
        {
          "output_type": "stream",
          "name": "stdout",
          "text": [
            "Il codice di caricamento di CIFAR-100 è stato spostato nella cella precedente (quella che calcola mean e std).\n"
          ]
        }
      ]
    },
    {
      "cell_type": "markdown",
      "id": "440a3a7b-2ed6-4f58-a1b7-5ab1fc432893",
      "metadata": {
        "id": "440a3a7b-2ed6-4f58-a1b7-5ab1fc432893"
      },
      "source": [
        "### Exercise 2.2: *Distill* the knowledge from a large model into a smaller one\n",
        "In this exercise you will see if you can derive a *small* model that performs comparably to a larger one on CIFAR-10. To do this, you will use [Knowledge Distillation](https://arxiv.org/abs/1503.02531):\n",
        "\n",
        "> Geoffrey Hinton, Oriol Vinyals, and Jeff Dean. Distilling the Knowledge in a Neural Network, NeurIPS 2015.\n",
        "\n",
        "To do this:\n",
        "1. Train one of your best-performing CNNs on CIFAR-10 from Exercise 1.3 above. This will be your **teacher** model.\n",
        "2. Define a *smaller* variant with about half the number of parameters (change the width and/or depth of the network). Train it on CIFAR-10 and verify that it performs *worse* than your **teacher**. This small network will be your **student** model.\n",
        "3. Train the **student** using a combination of **hard labels** from the CIFAR-10 training set (cross entropy loss) and **soft labels** from predictions of the **teacher** (Kulback-Leibler loss between teacher and student).\n",
        "\n",
        "Try to optimize training parameters in order to maximize the performance of the student. It should at least outperform the student trained only on hard labels in Setp 2.\n",
        "\n",
        "**Tip**: You can save the predictions of the trained teacher network on the training set and adapt your dataloader to provide them together with hard labels. This will **greatly** speed up training compared to performing a forward pass through the teacher for each batch of training."
      ]
    },
    {
      "cell_type": "code",
      "execution_count": null,
      "id": "9e33c912-0716-44ef-a91b-47ca19a2b2cd",
      "metadata": {
        "tags": [],
        "id": "9e33c912-0716-44ef-a91b-47ca19a2b2cd"
      },
      "outputs": [],
      "source": [
        "# Your code here."
      ]
    },
    {
      "cell_type": "markdown",
      "id": "8243f811-8227-4c6f-b07f-56e8cd91643a",
      "metadata": {
        "id": "8243f811-8227-4c6f-b07f-56e8cd91643a"
      },
      "source": [
        "### Exercise 2.3: *Explain* the predictions of a CNN\n",
        "\n",
        "Use the CNN model you trained in Exercise 1.3 and implement [*Class Activation Maps*](http://cnnlocalization.csail.mit.edu/#:~:text=A%20class%20activation%20map%20for,decision%20made%20by%20the%20CNN.):\n",
        "\n",
        "> B. Zhou, A. Khosla, A. Lapedriza, A. Oliva, and A. Torralba. Learning Deep Features for Discriminative Localization. CVPR'16 (arXiv:1512.04150, 2015).\n",
        "\n",
        "Use your CNN implementation to demonstrate how your trained CNN *attends* to specific image features to recognize *specific* classes. Try your implementation out using a pre-trained ResNet-18 model and some images from the [Imagenette](https://pytorch.org/vision/0.20/generated/torchvision.datasets.Imagenette.html#torchvision.datasets.Imagenette) dataset -- I suggest you start with the low resolution version of images at 160px."
      ]
    },
    {
      "cell_type": "code",
      "execution_count": null,
      "id": "d634a700-56c2-48fd-96e0-4c94d1bd0cfe",
      "metadata": {
        "tags": [],
        "id": "d634a700-56c2-48fd-96e0-4c94d1bd0cfe"
      },
      "outputs": [],
      "source": [
        "# Your code here."
      ]
    }
  ],
  "metadata": {
    "kernelspec": {
      "display_name": "Python 3",
      "name": "python3"
    },
    "language_info": {
      "codemirror_mode": {
        "name": "ipython",
        "version": 3
      },
      "file_extension": ".py",
      "mimetype": "text/x-python",
      "name": "python",
      "nbconvert_exporter": "python",
      "pygments_lexer": "ipython3",
      "version": "3.13.2"
    },
    "colab": {
      "provenance": [],
      "gpuType": "T4",
      "collapsed_sections": [
        "edb2b6d1-3df0-464c-9a5f-8c611257a971"
      ]
    },
    "accelerator": "GPU"
  },
  "nbformat": 4,
  "nbformat_minor": 5
}